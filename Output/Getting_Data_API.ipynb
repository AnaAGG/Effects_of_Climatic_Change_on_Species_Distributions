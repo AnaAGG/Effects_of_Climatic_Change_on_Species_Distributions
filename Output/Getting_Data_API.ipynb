{
 "cells": [
  {
   "cell_type": "markdown",
   "id": "intimate-cameroon",
   "metadata": {
    "toc": true
   },
   "source": [
    "<h1>Table of Contents<span class=\"tocSkip\"></span></h1>\n",
    "<div class=\"toc\"><ul class=\"toc-item\"><li><span><a href=\"#Libraries\" data-toc-modified-id=\"Libraries-1\"><span class=\"toc-item-num\">1&nbsp;&nbsp;</span>Libraries</a></span></li><li><span><a href=\"#Request-data-from-de-API\" data-toc-modified-id=\"Request-data-from-de-API-2\"><span class=\"toc-item-num\">2&nbsp;&nbsp;</span>Request data from de API</a></span><ul class=\"toc-item\"><li><span><a href=\"#Request-data-from-the-server-to-obtain-taxonomic-infomation:\" data-toc-modified-id=\"Request-data-from-the-server-to-obtain-taxonomic-infomation:-2.1\"><span class=\"toc-item-num\">2.1&nbsp;&nbsp;</span>Request data from the server to obtain taxonomic infomation:</a></span></li><li><span><a href=\"#Get-the-total-number-of-occurrences-for-each-species\" data-toc-modified-id=\"Get-the-total-number-of-occurrences-for-each-species-2.2\"><span class=\"toc-item-num\">2.2&nbsp;&nbsp;</span>Get the total number of occurrences for each species</a></span></li></ul></li><li><span><a href=\"#Saving-the-dataframe\" data-toc-modified-id=\"Saving-the-dataframe-3\"><span class=\"toc-item-num\">3&nbsp;&nbsp;</span>Saving the dataframe</a></span></li></ul></div>"
   ]
  },
  {
   "cell_type": "markdown",
   "id": "offensive-funds",
   "metadata": {},
   "source": [
    "### Libraries "
   ]
  },
  {
   "cell_type": "markdown",
   "id": "welcome-engineering",
   "metadata": {},
   "source": [
    "pygbif is split up into modules for each of the major groups of API methods.\n",
    "\n",
    "Registry - Datasets, Nodes, Installations, Networks, Organizations\n",
    "Species - Taxonomic names\n",
    "Occurrences - Occurrence data, including the download API\n",
    "Maps - Maps, get raster maps from GBIF as png or mvt"
   ]
  },
  {
   "cell_type": "code",
   "execution_count": 14,
   "id": "distributed-commons",
   "metadata": {},
   "outputs": [],
   "source": [
    "import sys\n",
    "sys.path.append('../')"
   ]
  },
  {
   "cell_type": "code",
   "execution_count": 15,
   "id": "composed-hacker",
   "metadata": {},
   "outputs": [],
   "source": [
    "from pygbif import occurrences as occ\n",
    "from pygbif import species\n",
    "import requests\n",
    "import pandas as pd\n",
    "import src.functions_API as fa"
   ]
  },
  {
   "cell_type": "markdown",
   "id": "cellular-mirror",
   "metadata": {},
   "source": [
    "### Request data from de API"
   ]
  },
  {
   "cell_type": "markdown",
   "id": "headed-intersection",
   "metadata": {},
   "source": [
    "#### Request data from the server to obtain taxonomic infomation:"
   ]
  },
  {
   "cell_type": "code",
   "execution_count": 16,
   "id": "fancy-lighting",
   "metadata": {},
   "outputs": [
    {
     "data": {
      "text/plain": [
       "200"
      ]
     },
     "execution_count": 16,
     "metadata": {},
     "output_type": "execute_result"
    }
   ],
   "source": [
    "url = 'http://api.gbif.org/v1/species/match?verbose=true&name='\n",
    "data = requests.get(url)\n",
    "data.status_code"
   ]
  },
  {
   "cell_type": "markdown",
   "id": "broke-plenty",
   "metadata": {},
   "source": [
    "In order to call the species with the GBIF API, it is necessary to enter the codes for each species. As it is impossible to know the codes, I am going to generate a function that, giving the scientific name, will return the codes for each one of them."
   ]
  },
  {
   "cell_type": "code",
   "execution_count": 17,
   "id": "differential-northeast",
   "metadata": {},
   "outputs": [],
   "source": [
    "sp = ['Apus affinis', 'Apus caffer', 'Silene ciliata','Abies pinsapo', 'Lanius minor','Ciconia ciconia', 'Sonchus tenerrimus',\n",
    "      'Araujia sericifera', 'Bucanetes githagineus', 'Hieraaetus pennatus','Anas penelope', 'Grus grus', 'Aythya fuligula',\n",
    "          'Vanellus vanellus', 'Turdus iliacus', 'cortaderia selloana','Carpobrotus edulis', 'Fumaria munbyi' ]"
   ]
  },
  {
   "cell_type": "code",
   "execution_count": 18,
   "id": "another-guard",
   "metadata": {},
   "outputs": [
    {
     "data": {
      "text/plain": [
       "{'Apus affinis': 5228662,\n",
       " 'Apus caffer': 5228644,\n",
       " 'Silene ciliata': 7267056,\n",
       " 'Abies pinsapo': 2685464,\n",
       " 'Lanius minor': 2492854,\n",
       " 'Ciconia ciconia': 2481912,\n",
       " 'Sonchus tenerrimus': 3105768,\n",
       " 'Araujia sericifera': 3170442,\n",
       " 'Bucanetes githagineus': 2494394,\n",
       " 'Hieraaetus pennatus': 2480685,\n",
       " 'Anas penelope': 2498111,\n",
       " 'Grus grus': 2474950,\n",
       " 'Aythya fuligula': 2498261,\n",
       " 'Vanellus vanellus': 2480242,\n",
       " 'Turdus iliacus': 2490781,\n",
       " 'cortaderia selloana': 2704523,\n",
       " 'Carpobrotus edulis': 3084842,\n",
       " 'Fumaria munbyi': 5532051}"
      ]
     },
     "execution_count": 18,
     "metadata": {},
     "output_type": "execute_result"
    }
   ],
   "source": [
    "code_number = fa.get_species_name_from_codes(sp)\n",
    "code_number"
   ]
  },
  {
   "cell_type": "markdown",
   "id": "furnished-iraqi",
   "metadata": {},
   "source": [
    "#### Get the total number of occurrences for each species\n",
    "We can use the function occ.search which search for GBIF occurences."
   ]
  },
  {
   "cell_type": "code",
   "execution_count": 19,
   "id": "spanish-origin",
   "metadata": {},
   "outputs": [
    {
     "data": {
      "text/plain": [
       "200"
      ]
     },
     "execution_count": 19,
     "metadata": {},
     "output_type": "execute_result"
    }
   ],
   "source": [
    "response = requests.get('http://api.gbif.org/v1/occurrence/counts/datasets')\n",
    "response.status_code"
   ]
  },
  {
   "cell_type": "code",
   "execution_count": 20,
   "id": "regulation-distance",
   "metadata": {},
   "outputs": [],
   "source": [
    "sp_list = list(code_number.values())"
   ]
  },
  {
   "cell_type": "code",
   "execution_count": null,
   "id": "adapted-particular",
   "metadata": {},
   "outputs": [
    {
     "name": "stdout",
     "output_type": "stream",
     "text": [
      "CPU times: user 0 ns, sys: 0 ns, total: 0 ns\n",
      "Wall time: 12.4 µs\n"
     ]
    }
   ],
   "source": [
    "%time\n",
    "all_occurrences = []\n",
    "for i in sp_list:\n",
    "    y = fa.join_occurrences_taxonomic(i)\n",
    "    all_occurrences.append(y)\n",
    "    \n"
   ]
  },
  {
   "cell_type": "code",
   "execution_count": null,
   "id": "ecological-audio",
   "metadata": {},
   "outputs": [],
   "source": [
    "df = pd.concat(all_species).fillna(0).reset_index(drop=True)\n",
    "df"
   ]
  },
  {
   "cell_type": "markdown",
   "id": "disturbed-opera",
   "metadata": {},
   "source": [
    "### Saving the dataframe "
   ]
  },
  {
   "cell_type": "code",
   "execution_count": null,
   "id": "varied-iraqi",
   "metadata": {},
   "outputs": [],
   "source": [
    "all_species.to_csv(\"species.csv\")"
   ]
  },
  {
   "cell_type": "code",
   "execution_count": null,
   "id": "mental-isolation",
   "metadata": {},
   "outputs": [],
   "source": []
  }
 ],
 "metadata": {
  "kernelspec": {
   "display_name": "Python 3",
   "language": "python",
   "name": "python3"
  },
  "language_info": {
   "codemirror_mode": {
    "name": "ipython",
    "version": 3
   },
   "file_extension": ".py",
   "mimetype": "text/x-python",
   "name": "python",
   "nbconvert_exporter": "python",
   "pygments_lexer": "ipython3",
   "version": "3.8.5"
  },
  "toc": {
   "base_numbering": 1,
   "nav_menu": {},
   "number_sections": true,
   "sideBar": true,
   "skip_h1_title": false,
   "title_cell": "Table of Contents",
   "title_sidebar": "Contents",
   "toc_cell": true,
   "toc_position": {
    "height": "757px",
    "left": "558px",
    "top": "143px",
    "width": "383.993px"
   },
   "toc_section_display": true,
   "toc_window_display": false
  },
  "varInspector": {
   "cols": {
    "lenName": 16,
    "lenType": 16,
    "lenVar": 40
   },
   "kernels_config": {
    "python": {
     "delete_cmd_postfix": "",
     "delete_cmd_prefix": "del ",
     "library": "var_list.py",
     "varRefreshCmd": "print(var_dic_list())"
    },
    "r": {
     "delete_cmd_postfix": ") ",
     "delete_cmd_prefix": "rm(",
     "library": "var_list.r",
     "varRefreshCmd": "cat(var_dic_list()) "
    }
   },
   "position": {
    "height": "385px",
    "left": "1550px",
    "right": "20px",
    "top": "120px",
    "width": "350px"
   },
   "types_to_exclude": [
    "module",
    "function",
    "builtin_function_or_method",
    "instance",
    "_Feature"
   ],
   "window_display": false
  }
 },
 "nbformat": 4,
 "nbformat_minor": 5
}
