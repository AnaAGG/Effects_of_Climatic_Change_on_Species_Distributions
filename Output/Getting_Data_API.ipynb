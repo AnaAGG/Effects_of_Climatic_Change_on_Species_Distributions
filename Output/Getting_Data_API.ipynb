{
 "cells": [
  {
   "cell_type": "markdown",
   "id": "offensive-funds",
   "metadata": {},
   "source": [
    "### Libraries needed"
   ]
  },
  {
   "cell_type": "markdown",
   "id": "welcome-engineering",
   "metadata": {},
   "source": [
    "pygbif is split up into modules for each of the major groups of API methods.\n",
    "\n",
    "Registry - Datasets, Nodes, Installations, Networks, Organizations\n",
    "Species - Taxonomic names\n",
    "Occurrences - Occurrence data, including the download API\n",
    "Maps - Maps, get raster maps from GBIF as png or mvt"
   ]
  },
  {
   "cell_type": "code",
   "execution_count": 1,
   "id": "composed-hacker",
   "metadata": {},
   "outputs": [],
   "source": [
    "import pygbif\n",
    "from pygbif import occurrences as occ\n",
    "from pygbif import species\n",
    "\n",
    "import requests\n",
    "\n",
    "import pandas as pd"
   ]
  },
  {
   "cell_type": "markdown",
   "id": "cellular-mirror",
   "metadata": {},
   "source": [
    "### Request data from de API"
   ]
  },
  {
   "cell_type": "markdown",
   "id": "headed-intersection",
   "metadata": {},
   "source": [
    "#### To request data from the server:"
   ]
  },
  {
   "cell_type": "code",
   "execution_count": 2,
   "id": "fancy-lighting",
   "metadata": {},
   "outputs": [
    {
     "data": {
      "text/plain": [
       "200"
      ]
     },
     "execution_count": 2,
     "metadata": {},
     "output_type": "execute_result"
    }
   ],
   "source": [
    "url = 'http://api.gbif.org/v1/species/match?verbose=true&name='\n",
    "data = requests.get(url)\n",
    "data.status_code"
   ]
  },
  {
   "cell_type": "markdown",
   "id": "broke-plenty",
   "metadata": {},
   "source": [
    "#### In order to call the species with the GBIF API, it is necessary to enter the codes for each species. As it is impossible to know the codes, I am going to generate a function that, giving the scientific name, will return the codes for each one of them."
   ]
  },
  {
   "cell_type": "code",
   "execution_count": 3,
   "id": "differential-northeast",
   "metadata": {},
   "outputs": [],
   "source": [
    "splist = ['Apus affinis', 'Apus caffer', 'Parnasius apollo', 'Calotriton arnoldi', 'Gallotia simonyi', 'Alytes dickhilleni',\n",
    "'Meliataea cinxia', 'Silene ciliata', 'Abies pinsapo', 'Lanius minor', 'Ciconia ciconia']\n",
    "\n",
    "def get_species_name_from_codes (sp):\n",
    "    keys = [species.name_backbone(x)['usageKey'] for x in splist ]\n",
    "    species_codes = dict(zip(splist, keys))\n",
    "    return species_codes    "
   ]
  },
  {
   "cell_type": "code",
   "execution_count": 4,
   "id": "another-guard",
   "metadata": {},
   "outputs": [
    {
     "data": {
      "text/plain": [
       "{'Apus affinis': 5228662,\n",
       " 'Apus caffer': 5228644,\n",
       " 'Parnasius apollo': 1938810,\n",
       " 'Calotriton arnoldi': 2431827,\n",
       " 'Gallotia simonyi': 2468673,\n",
       " 'Alytes dickhilleni': 2426613,\n",
       " 'Meliataea cinxia': 8168644,\n",
       " 'Silene ciliata': 7267056,\n",
       " 'Abies pinsapo': 2685464,\n",
       " 'Lanius minor': 2492854,\n",
       " 'Ciconia ciconia': 2481912}"
      ]
     },
     "execution_count": 4,
     "metadata": {},
     "output_type": "execute_result"
    }
   ],
   "source": [
    "code_number = get_species_name_from_codes(splist)\n",
    "code_number"
   ]
  },
  {
   "cell_type": "markdown",
   "id": "furnished-iraqi",
   "metadata": {},
   "source": [
    "#### To get the total number of occurrences for each species\n",
    "We can use the function occ.search which search for GBIF occurences."
   ]
  },
  {
   "cell_type": "code",
   "execution_count": 5,
   "id": "spanish-origin",
   "metadata": {},
   "outputs": [
    {
     "data": {
      "text/plain": [
       "200"
      ]
     },
     "execution_count": 5,
     "metadata": {},
     "output_type": "execute_result"
    }
   ],
   "source": [
    "response = requests.get('http://api.gbif.org/v1/occurrence/counts/datasets')\n",
    "response.status_code"
   ]
  },
  {
   "cell_type": "code",
   "execution_count": 6,
   "id": "split-jacket",
   "metadata": {},
   "outputs": [
    {
     "data": {
      "text/plain": [
       "{'Apus affinis': 5228662,\n",
       " 'Apus caffer': 5228644,\n",
       " 'Parnasius apollo': 1938810,\n",
       " 'Calotriton arnoldi': 2431827,\n",
       " 'Gallotia simonyi': 2468673,\n",
       " 'Alytes dickhilleni': 2426613,\n",
       " 'Meliataea cinxia': 8168644,\n",
       " 'Silene ciliata': 7267056,\n",
       " 'Abies pinsapo': 2685464,\n",
       " 'Lanius minor': 2492854,\n",
       " 'Ciconia ciconia': 2481912}"
      ]
     },
     "execution_count": 6,
     "metadata": {},
     "output_type": "execute_result"
    }
   ],
   "source": [
    "code_number"
   ]
  },
  {
   "cell_type": "code",
   "execution_count": 120,
   "id": "spectacular-private",
   "metadata": {},
   "outputs": [],
   "source": [
    "def get_occurences(sp):\n",
    "    \n",
    "    years = range(1970, 2020)\n",
    "    x = []\n",
    "    \n",
    "    for y in years:\n",
    "        data = occ.search(taxonKey = sp, limit = 300, country = 'ES', year = str(y))\n",
    "        #Get the number of occurrences:\n",
    "        x.append({str(y): data['count']})\n",
    "        \n",
    "        # Set all the data in an unique dictionary\n",
    "        final = {}\n",
    "        for d in x:\n",
    "            for k in d.keys():\n",
    "                final[k] = final.get(k,0) + d[k]\n",
    "       \n",
    "    return final"
   ]
  },
  {
   "cell_type": "code",
   "execution_count": 121,
   "id": "instructional-debut",
   "metadata": {},
   "outputs": [],
   "source": [
    "def get_taxonomic_info(sp):\n",
    "    data = occ.search(taxonKey = sp, limit = 300, country = 'ES', year = '2016')\n",
    "    taxonomic = data[\"results\"]\n",
    "    for dictionary in taxonomic:\n",
    "        species = dictionary[\"scientificName\"]\n",
    "        kingdom = dictionary[\"kingdom\"] \n",
    "        genus = dictionary['genus']\n",
    "        family = dictionary['family']           \n",
    "        country = dictionary[\"country\"]\n",
    "        records = dictionary['basisOfRecord']\n",
    "        pub = dictionary['publishingCountry']\n",
    "            \n",
    "        \n",
    "    \n",
    "    species_info = {'species': species,\n",
    "                    'kingdom': kingdom,\n",
    "                    'Genus': genus, \n",
    "                    'Family': family,\n",
    "                    'country': country,\n",
    "                    'records': records,\n",
    "                    'Publishing_country': pub\n",
    "               }\n",
    "    return species_info"
   ]
  },
  {
   "cell_type": "code",
   "execution_count": 128,
   "id": "ordinary-thompson",
   "metadata": {},
   "outputs": [],
   "source": [
    "def join_occurrences_taxonomic(sp):\n",
    "    '''\n",
    "    Receive taxonomic information dictionary and dictictionry with occurences/year\n",
    "    \n",
    "    Args:\n",
    "    \n",
    "    \n",
    "    Returns\n",
    "        jsdf\n",
    "    '''\n",
    "    # occurrence dictionary to dataframe\n",
    "    df_occurrences = pd.DataFrame.from_dict(data = get_occurences(sp),  orient='index').reset_index()\n",
    "    df_occurrences.columns = ['Year','Occurrences']\n",
    "    \n",
    "    #taxonomic dictionary to dataframe\n",
    "    df_taxonomic = pd.DataFrame(data = get_taxonomic_info(sp), index = [0])\n",
    "    df_taxonomic = pd.concat([df_taxonomic]*550, ignore_index=True)\n",
    "    \n",
    "    # concatenate occurences with taxonomic information\n",
    "    sp1 = pd.concat([df_occurrences,df_taxonomic], axis=1)\n",
    "    \n",
    "    \n",
    "    return sp1"
   ]
  },
  {
   "cell_type": "code",
   "execution_count": 119,
   "id": "sexual-board",
   "metadata": {},
   "outputs": [
    {
     "data": {
      "text/html": [
       "<div>\n",
       "<style scoped>\n",
       "    .dataframe tbody tr th:only-of-type {\n",
       "        vertical-align: middle;\n",
       "    }\n",
       "\n",
       "    .dataframe tbody tr th {\n",
       "        vertical-align: top;\n",
       "    }\n",
       "\n",
       "    .dataframe thead th {\n",
       "        text-align: right;\n",
       "    }\n",
       "</style>\n",
       "<table border=\"1\" class=\"dataframe\">\n",
       "  <thead>\n",
       "    <tr style=\"text-align: right;\">\n",
       "      <th></th>\n",
       "      <th>Year</th>\n",
       "      <th>Occurrences</th>\n",
       "      <th>species</th>\n",
       "      <th>kingdom</th>\n",
       "      <th>Genus</th>\n",
       "      <th>Family</th>\n",
       "      <th>country</th>\n",
       "      <th>records</th>\n",
       "      <th>Publishing_country</th>\n",
       "    </tr>\n",
       "  </thead>\n",
       "  <tbody>\n",
       "    <tr>\n",
       "      <th>0</th>\n",
       "      <td>1970</td>\n",
       "      <td>6</td>\n",
       "      <td>Silene ciliata Pourr.</td>\n",
       "      <td>Plantae</td>\n",
       "      <td>Silene</td>\n",
       "      <td>Caryophyllaceae</td>\n",
       "      <td>Spain</td>\n",
       "      <td>HUMAN_OBSERVATION</td>\n",
       "      <td>FR</td>\n",
       "    </tr>\n",
       "    <tr>\n",
       "      <th>1</th>\n",
       "      <td>1971</td>\n",
       "      <td>1</td>\n",
       "      <td>Silene ciliata Pourr.</td>\n",
       "      <td>Plantae</td>\n",
       "      <td>Silene</td>\n",
       "      <td>Caryophyllaceae</td>\n",
       "      <td>Spain</td>\n",
       "      <td>HUMAN_OBSERVATION</td>\n",
       "      <td>FR</td>\n",
       "    </tr>\n",
       "    <tr>\n",
       "      <th>2</th>\n",
       "      <td>1972</td>\n",
       "      <td>5</td>\n",
       "      <td>Silene ciliata Pourr.</td>\n",
       "      <td>Plantae</td>\n",
       "      <td>Silene</td>\n",
       "      <td>Caryophyllaceae</td>\n",
       "      <td>Spain</td>\n",
       "      <td>HUMAN_OBSERVATION</td>\n",
       "      <td>FR</td>\n",
       "    </tr>\n",
       "    <tr>\n",
       "      <th>3</th>\n",
       "      <td>1973</td>\n",
       "      <td>9</td>\n",
       "      <td>Silene ciliata Pourr.</td>\n",
       "      <td>Plantae</td>\n",
       "      <td>Silene</td>\n",
       "      <td>Caryophyllaceae</td>\n",
       "      <td>Spain</td>\n",
       "      <td>HUMAN_OBSERVATION</td>\n",
       "      <td>FR</td>\n",
       "    </tr>\n",
       "    <tr>\n",
       "      <th>4</th>\n",
       "      <td>1974</td>\n",
       "      <td>6</td>\n",
       "      <td>Silene ciliata Pourr.</td>\n",
       "      <td>Plantae</td>\n",
       "      <td>Silene</td>\n",
       "      <td>Caryophyllaceae</td>\n",
       "      <td>Spain</td>\n",
       "      <td>HUMAN_OBSERVATION</td>\n",
       "      <td>FR</td>\n",
       "    </tr>\n",
       "  </tbody>\n",
       "</table>\n",
       "</div>"
      ],
      "text/plain": [
       "   Year  Occurrences                species  kingdom   Genus           Family  \\\n",
       "0  1970            6  Silene ciliata Pourr.  Plantae  Silene  Caryophyllaceae   \n",
       "1  1971            1  Silene ciliata Pourr.  Plantae  Silene  Caryophyllaceae   \n",
       "2  1972            5  Silene ciliata Pourr.  Plantae  Silene  Caryophyllaceae   \n",
       "3  1973            9  Silene ciliata Pourr.  Plantae  Silene  Caryophyllaceae   \n",
       "4  1974            6  Silene ciliata Pourr.  Plantae  Silene  Caryophyllaceae   \n",
       "\n",
       "  country            records Publishing_country  \n",
       "0   Spain  HUMAN_OBSERVATION                 FR  \n",
       "1   Spain  HUMAN_OBSERVATION                 FR  \n",
       "2   Spain  HUMAN_OBSERVATION                 FR  \n",
       "3   Spain  HUMAN_OBSERVATION                 FR  \n",
       "4   Spain  HUMAN_OBSERVATION                 FR  "
      ]
     },
     "execution_count": 119,
     "metadata": {},
     "output_type": "execute_result"
    }
   ],
   "source": [
    "silene = join_occurrences_taxonomic(7267056)\n",
    "silene[:5]"
   ]
  },
  {
   "cell_type": "code",
   "execution_count": 129,
   "id": "tender-channel",
   "metadata": {},
   "outputs": [
    {
     "name": "stdout",
     "output_type": "stream",
     "text": [
      "CPU times: user 12.5 s, sys: 2.27 s, total: 14.8 s\n",
      "Wall time: 9min 55s\n"
     ]
    }
   ],
   "source": [
    "%%time\n",
    "for key, values in code_number.items():\n",
    "    data_species = join_occurrences_taxonomic(values)"
   ]
  },
  {
   "cell_type": "code",
   "execution_count": 130,
   "id": "hispanic-hollywood",
   "metadata": {},
   "outputs": [
    {
     "data": {
      "text/plain": [
       "(550, 9)"
      ]
     },
     "execution_count": 130,
     "metadata": {},
     "output_type": "execute_result"
    }
   ],
   "source": [
    "data_species.shape"
   ]
  },
  {
   "cell_type": "code",
   "execution_count": 132,
   "id": "partial-limitation",
   "metadata": {},
   "outputs": [
    {
     "data": {
      "text/html": [
       "<div>\n",
       "<style scoped>\n",
       "    .dataframe tbody tr th:only-of-type {\n",
       "        vertical-align: middle;\n",
       "    }\n",
       "\n",
       "    .dataframe tbody tr th {\n",
       "        vertical-align: top;\n",
       "    }\n",
       "\n",
       "    .dataframe thead th {\n",
       "        text-align: right;\n",
       "    }\n",
       "</style>\n",
       "<table border=\"1\" class=\"dataframe\">\n",
       "  <thead>\n",
       "    <tr style=\"text-align: right;\">\n",
       "      <th></th>\n",
       "      <th>Year</th>\n",
       "      <th>Occurrences</th>\n",
       "      <th>species</th>\n",
       "      <th>kingdom</th>\n",
       "      <th>Genus</th>\n",
       "      <th>Family</th>\n",
       "      <th>country</th>\n",
       "      <th>records</th>\n",
       "      <th>Publishing_country</th>\n",
       "    </tr>\n",
       "  </thead>\n",
       "  <tbody>\n",
       "    <tr>\n",
       "      <th>0</th>\n",
       "      <td>1970</td>\n",
       "      <td>23.0</td>\n",
       "      <td>Ciconia ciconia (Linnaeus, 1758)</td>\n",
       "      <td>Animalia</td>\n",
       "      <td>Ciconia</td>\n",
       "      <td>Ciconiidae</td>\n",
       "      <td>Spain</td>\n",
       "      <td>HUMAN_OBSERVATION</td>\n",
       "      <td>ES</td>\n",
       "    </tr>\n",
       "    <tr>\n",
       "      <th>1</th>\n",
       "      <td>1971</td>\n",
       "      <td>13.0</td>\n",
       "      <td>Ciconia ciconia (Linnaeus, 1758)</td>\n",
       "      <td>Animalia</td>\n",
       "      <td>Ciconia</td>\n",
       "      <td>Ciconiidae</td>\n",
       "      <td>Spain</td>\n",
       "      <td>HUMAN_OBSERVATION</td>\n",
       "      <td>ES</td>\n",
       "    </tr>\n",
       "    <tr>\n",
       "      <th>2</th>\n",
       "      <td>1972</td>\n",
       "      <td>33.0</td>\n",
       "      <td>Ciconia ciconia (Linnaeus, 1758)</td>\n",
       "      <td>Animalia</td>\n",
       "      <td>Ciconia</td>\n",
       "      <td>Ciconiidae</td>\n",
       "      <td>Spain</td>\n",
       "      <td>HUMAN_OBSERVATION</td>\n",
       "      <td>ES</td>\n",
       "    </tr>\n",
       "    <tr>\n",
       "      <th>3</th>\n",
       "      <td>1973</td>\n",
       "      <td>36.0</td>\n",
       "      <td>Ciconia ciconia (Linnaeus, 1758)</td>\n",
       "      <td>Animalia</td>\n",
       "      <td>Ciconia</td>\n",
       "      <td>Ciconiidae</td>\n",
       "      <td>Spain</td>\n",
       "      <td>HUMAN_OBSERVATION</td>\n",
       "      <td>ES</td>\n",
       "    </tr>\n",
       "    <tr>\n",
       "      <th>4</th>\n",
       "      <td>1974</td>\n",
       "      <td>51.0</td>\n",
       "      <td>Ciconia ciconia (Linnaeus, 1758)</td>\n",
       "      <td>Animalia</td>\n",
       "      <td>Ciconia</td>\n",
       "      <td>Ciconiidae</td>\n",
       "      <td>Spain</td>\n",
       "      <td>HUMAN_OBSERVATION</td>\n",
       "      <td>ES</td>\n",
       "    </tr>\n",
       "    <tr>\n",
       "      <th>...</th>\n",
       "      <td>...</td>\n",
       "      <td>...</td>\n",
       "      <td>...</td>\n",
       "      <td>...</td>\n",
       "      <td>...</td>\n",
       "      <td>...</td>\n",
       "      <td>...</td>\n",
       "      <td>...</td>\n",
       "      <td>...</td>\n",
       "    </tr>\n",
       "    <tr>\n",
       "      <th>195</th>\n",
       "      <td>NaN</td>\n",
       "      <td>NaN</td>\n",
       "      <td>Ciconia ciconia (Linnaeus, 1758)</td>\n",
       "      <td>Animalia</td>\n",
       "      <td>Ciconia</td>\n",
       "      <td>Ciconiidae</td>\n",
       "      <td>Spain</td>\n",
       "      <td>HUMAN_OBSERVATION</td>\n",
       "      <td>ES</td>\n",
       "    </tr>\n",
       "    <tr>\n",
       "      <th>196</th>\n",
       "      <td>NaN</td>\n",
       "      <td>NaN</td>\n",
       "      <td>Ciconia ciconia (Linnaeus, 1758)</td>\n",
       "      <td>Animalia</td>\n",
       "      <td>Ciconia</td>\n",
       "      <td>Ciconiidae</td>\n",
       "      <td>Spain</td>\n",
       "      <td>HUMAN_OBSERVATION</td>\n",
       "      <td>ES</td>\n",
       "    </tr>\n",
       "    <tr>\n",
       "      <th>197</th>\n",
       "      <td>NaN</td>\n",
       "      <td>NaN</td>\n",
       "      <td>Ciconia ciconia (Linnaeus, 1758)</td>\n",
       "      <td>Animalia</td>\n",
       "      <td>Ciconia</td>\n",
       "      <td>Ciconiidae</td>\n",
       "      <td>Spain</td>\n",
       "      <td>HUMAN_OBSERVATION</td>\n",
       "      <td>ES</td>\n",
       "    </tr>\n",
       "    <tr>\n",
       "      <th>198</th>\n",
       "      <td>NaN</td>\n",
       "      <td>NaN</td>\n",
       "      <td>Ciconia ciconia (Linnaeus, 1758)</td>\n",
       "      <td>Animalia</td>\n",
       "      <td>Ciconia</td>\n",
       "      <td>Ciconiidae</td>\n",
       "      <td>Spain</td>\n",
       "      <td>HUMAN_OBSERVATION</td>\n",
       "      <td>ES</td>\n",
       "    </tr>\n",
       "    <tr>\n",
       "      <th>199</th>\n",
       "      <td>NaN</td>\n",
       "      <td>NaN</td>\n",
       "      <td>Ciconia ciconia (Linnaeus, 1758)</td>\n",
       "      <td>Animalia</td>\n",
       "      <td>Ciconia</td>\n",
       "      <td>Ciconiidae</td>\n",
       "      <td>Spain</td>\n",
       "      <td>HUMAN_OBSERVATION</td>\n",
       "      <td>ES</td>\n",
       "    </tr>\n",
       "  </tbody>\n",
       "</table>\n",
       "<p>200 rows × 9 columns</p>\n",
       "</div>"
      ],
      "text/plain": [
       "     Year  Occurrences                           species   kingdom    Genus  \\\n",
       "0    1970         23.0  Ciconia ciconia (Linnaeus, 1758)  Animalia  Ciconia   \n",
       "1    1971         13.0  Ciconia ciconia (Linnaeus, 1758)  Animalia  Ciconia   \n",
       "2    1972         33.0  Ciconia ciconia (Linnaeus, 1758)  Animalia  Ciconia   \n",
       "3    1973         36.0  Ciconia ciconia (Linnaeus, 1758)  Animalia  Ciconia   \n",
       "4    1974         51.0  Ciconia ciconia (Linnaeus, 1758)  Animalia  Ciconia   \n",
       "..    ...          ...                               ...       ...      ...   \n",
       "195   NaN          NaN  Ciconia ciconia (Linnaeus, 1758)  Animalia  Ciconia   \n",
       "196   NaN          NaN  Ciconia ciconia (Linnaeus, 1758)  Animalia  Ciconia   \n",
       "197   NaN          NaN  Ciconia ciconia (Linnaeus, 1758)  Animalia  Ciconia   \n",
       "198   NaN          NaN  Ciconia ciconia (Linnaeus, 1758)  Animalia  Ciconia   \n",
       "199   NaN          NaN  Ciconia ciconia (Linnaeus, 1758)  Animalia  Ciconia   \n",
       "\n",
       "         Family country            records Publishing_country  \n",
       "0    Ciconiidae   Spain  HUMAN_OBSERVATION                 ES  \n",
       "1    Ciconiidae   Spain  HUMAN_OBSERVATION                 ES  \n",
       "2    Ciconiidae   Spain  HUMAN_OBSERVATION                 ES  \n",
       "3    Ciconiidae   Spain  HUMAN_OBSERVATION                 ES  \n",
       "4    Ciconiidae   Spain  HUMAN_OBSERVATION                 ES  \n",
       "..          ...     ...                ...                ...  \n",
       "195  Ciconiidae   Spain  HUMAN_OBSERVATION                 ES  \n",
       "196  Ciconiidae   Spain  HUMAN_OBSERVATION                 ES  \n",
       "197  Ciconiidae   Spain  HUMAN_OBSERVATION                 ES  \n",
       "198  Ciconiidae   Spain  HUMAN_OBSERVATION                 ES  \n",
       "199  Ciconiidae   Spain  HUMAN_OBSERVATION                 ES  \n",
       "\n",
       "[200 rows x 9 columns]"
      ]
     },
     "execution_count": 132,
     "metadata": {},
     "output_type": "execute_result"
    }
   ],
   "source": [
    "data_species[:200]"
   ]
  },
  {
   "cell_type": "code",
   "execution_count": 133,
   "id": "adapted-particular",
   "metadata": {},
   "outputs": [],
   "source": [
    "data_species.to_csv(\"Pru_sp.csv\")"
   ]
  },
  {
   "cell_type": "code",
   "execution_count": null,
   "id": "recorded-multiple",
   "metadata": {},
   "outputs": [],
   "source": []
  }
 ],
 "metadata": {
  "kernelspec": {
   "display_name": "Python 3",
   "language": "python",
   "name": "python3"
  },
  "language_info": {
   "codemirror_mode": {
    "name": "ipython",
    "version": 3
   },
   "file_extension": ".py",
   "mimetype": "text/x-python",
   "name": "python",
   "nbconvert_exporter": "python",
   "pygments_lexer": "ipython3",
   "version": "3.8.5"
  },
  "toc": {
   "base_numbering": 1,
   "nav_menu": {},
   "number_sections": true,
   "sideBar": true,
   "skip_h1_title": false,
   "title_cell": "Table of Contents",
   "title_sidebar": "Contents",
   "toc_cell": false,
   "toc_position": {
    "height": "757px",
    "left": "558px",
    "top": "143px",
    "width": "384px"
   },
   "toc_section_display": true,
   "toc_window_display": true
  },
  "varInspector": {
   "cols": {
    "lenName": 16,
    "lenType": 16,
    "lenVar": 40
   },
   "kernels_config": {
    "python": {
     "delete_cmd_postfix": "",
     "delete_cmd_prefix": "del ",
     "library": "var_list.py",
     "varRefreshCmd": "print(var_dic_list())"
    },
    "r": {
     "delete_cmd_postfix": ") ",
     "delete_cmd_prefix": "rm(",
     "library": "var_list.r",
     "varRefreshCmd": "cat(var_dic_list()) "
    }
   },
   "position": {
    "height": "385px",
    "left": "1550px",
    "right": "20px",
    "top": "120px",
    "width": "350px"
   },
   "types_to_exclude": [
    "module",
    "function",
    "builtin_function_or_method",
    "instance",
    "_Feature"
   ],
   "window_display": false
  }
 },
 "nbformat": 4,
 "nbformat_minor": 5
}
