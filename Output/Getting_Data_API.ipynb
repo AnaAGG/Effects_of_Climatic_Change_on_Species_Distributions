{
 "cells": [
  {
   "cell_type": "markdown",
   "id": "dense-inventory",
   "metadata": {},
   "source": []
  },
  {
   "cell_type": "markdown",
   "id": "offensive-funds",
   "metadata": {},
   "source": [
    "### Libraries needed"
   ]
  },
  {
   "cell_type": "markdown",
   "id": "welcome-engineering",
   "metadata": {},
   "source": [
    "pygbif is split up into modules for each of the major groups of API methods.\n",
    "\n",
    "Registry - Datasets, Nodes, Installations, Networks, Organizations\n",
    "Species - Taxonomic names\n",
    "Occurrences - Occurrence data, including the download API\n",
    "Maps - Maps, get raster maps from GBIF as png or mvt"
   ]
  },
  {
   "cell_type": "code",
   "execution_count": 30,
   "id": "composed-hacker",
   "metadata": {},
   "outputs": [],
   "source": [
    "import pygbif\n",
    "from pygbif import occurrences as occ\n",
    "from pygbif import species\n",
    "\n",
    "import requests\n",
    "\n",
    "import pandas as pd"
   ]
  },
  {
   "cell_type": "markdown",
   "id": "cellular-mirror",
   "metadata": {},
   "source": [
    "### Request data from de API"
   ]
  },
  {
   "cell_type": "markdown",
   "id": "headed-intersection",
   "metadata": {},
   "source": [
    "#### To request data from the server:"
   ]
  },
  {
   "cell_type": "code",
   "execution_count": 31,
   "id": "fancy-lighting",
   "metadata": {},
   "outputs": [
    {
     "data": {
      "text/plain": [
       "200"
      ]
     },
     "execution_count": 31,
     "metadata": {},
     "output_type": "execute_result"
    }
   ],
   "source": [
    "url = 'http://api.gbif.org/v1/species/match?verbose=true&name='\n",
    "data = requests.get(url)\n",
    "data.status_code"
   ]
  },
  {
   "cell_type": "markdown",
   "id": "broke-plenty",
   "metadata": {},
   "source": [
    "#### In order to call the species with the GBIF API, it is necessary to enter the codes for each species. As it is impossible to know the codes, I am going to generate a function that, giving the scientific name, will return the codes for each one of them."
   ]
  },
  {
   "cell_type": "code",
   "execution_count": 32,
   "id": "differential-northeast",
   "metadata": {},
   "outputs": [],
   "source": [
    "splist = ['Apus affinis', 'Apus caffer', 'Parnasius apollo', 'Calotriton arnoldi', 'Gallotia simonyi', 'Alytes dickhilleni',\n",
    "'Meliataea cinxia', 'Silene ciliata', 'Abies pinsapo', 'Lanius minor', 'Ciconia ciconia']\n",
    "\n",
    "def get_species_name_from_codes (sp):\n",
    "    keys = [species.name_backbone(x)['usageKey'] for x in splist ]\n",
    "    species_codes = dict(zip(splist, keys))\n",
    "    return species_codes    "
   ]
  },
  {
   "cell_type": "code",
   "execution_count": 33,
   "id": "another-guard",
   "metadata": {},
   "outputs": [
    {
     "data": {
      "text/plain": [
       "{'Apus affinis': 5228662,\n",
       " 'Apus caffer': 5228644,\n",
       " 'Parnasius apollo': 1938810,\n",
       " 'Calotriton arnoldi': 2431827,\n",
       " 'Gallotia simonyi': 2468673,\n",
       " 'Alytes dickhilleni': 2426613,\n",
       " 'Meliataea cinxia': 8168644,\n",
       " 'Silene ciliata': 7267056,\n",
       " 'Abies pinsapo': 2685464,\n",
       " 'Lanius minor': 2492854,\n",
       " 'Ciconia ciconia': 2481912}"
      ]
     },
     "execution_count": 33,
     "metadata": {},
     "output_type": "execute_result"
    }
   ],
   "source": [
    "code_number = get_species_name_from_codes(splist)\n",
    "code_number"
   ]
  },
  {
   "cell_type": "markdown",
   "id": "furnished-iraqi",
   "metadata": {},
   "source": [
    "#### To get the total number of occurrences for each species\n",
    "We can use the function occ.search which search for GBIF occurences."
   ]
  },
  {
   "cell_type": "code",
   "execution_count": 34,
   "id": "spanish-origin",
   "metadata": {},
   "outputs": [
    {
     "data": {
      "text/plain": [
       "200"
      ]
     },
     "execution_count": 34,
     "metadata": {},
     "output_type": "execute_result"
    }
   ],
   "source": [
    "response = requests.get('http://api.gbif.org/v1/occurrence/counts/datasets')\n",
    "response.status_code"
   ]
  },
  {
   "cell_type": "code",
   "execution_count": 35,
   "id": "split-jacket",
   "metadata": {},
   "outputs": [
    {
     "data": {
      "text/plain": [
       "{'Apus affinis': 5228662,\n",
       " 'Apus caffer': 5228644,\n",
       " 'Parnasius apollo': 1938810,\n",
       " 'Calotriton arnoldi': 2431827,\n",
       " 'Gallotia simonyi': 2468673,\n",
       " 'Alytes dickhilleni': 2426613,\n",
       " 'Meliataea cinxia': 8168644,\n",
       " 'Silene ciliata': 7267056,\n",
       " 'Abies pinsapo': 2685464,\n",
       " 'Lanius minor': 2492854,\n",
       " 'Ciconia ciconia': 2481912}"
      ]
     },
     "execution_count": 35,
     "metadata": {},
     "output_type": "execute_result"
    }
   ],
   "source": [
    "code_number"
   ]
  },
  {
   "cell_type": "code",
   "execution_count": 36,
   "id": "apparent-egyptian",
   "metadata": {},
   "outputs": [
    {
     "data": {
      "text/plain": [
       "dict_keys(['offset', 'limit', 'endOfRecords', 'count', 'results', 'facets'])"
      ]
     },
     "execution_count": 36,
     "metadata": {},
     "output_type": "execute_result"
    }
   ],
   "source": [
    "taxon = occ.search(taxonKey = 5228662, country = 'ES', year = '2017')\n",
    "taxon.keys()"
   ]
  },
  {
   "cell_type": "code",
   "execution_count": 37,
   "id": "northern-architect",
   "metadata": {},
   "outputs": [],
   "source": [
    "taxon_res = taxon[\"results\"]"
   ]
  },
  {
   "cell_type": "code",
   "execution_count": 38,
   "id": "massive-injection",
   "metadata": {},
   "outputs": [
    {
     "data": {
      "text/plain": [
       "{'key': 2832925045,\n",
       " 'datasetKey': '8a863029-f435-446a-821e-275f4f641165',\n",
       " 'publishingOrgKey': 'c8d737e0-2ff8-42e8-b8fc-6b805d26fc5f',\n",
       " 'installationKey': '85ccfd1a-a837-48d6-9a87-96c99f6fe012',\n",
       " 'publishingCountry': 'NL',\n",
       " 'protocol': 'DWC_ARCHIVE',\n",
       " 'lastCrawled': '2020-08-19T12:31:07.894+00:00',\n",
       " 'lastParsed': '2020-12-15T18:59:52.467+00:00',\n",
       " 'crawlId': 80,\n",
       " 'hostingOrganizationKey': '396d5f30-dea9-11db-8ab4-b8a03c50a862',\n",
       " 'extensions': {},\n",
       " 'basisOfRecord': 'HUMAN_OBSERVATION',\n",
       " 'individualCount': 14,\n",
       " 'occurrenceStatus': 'PRESENT',\n",
       " 'lifeStage': 'Unknown',\n",
       " 'taxonKey': 5228662,\n",
       " 'kingdomKey': 1,\n",
       " 'phylumKey': 44,\n",
       " 'classKey': 212,\n",
       " 'orderKey': 1448,\n",
       " 'familyKey': 2993,\n",
       " 'genusKey': 2235048,\n",
       " 'speciesKey': 5228662,\n",
       " 'acceptedTaxonKey': 5228662,\n",
       " 'scientificName': 'Apus affinis (J.E.Gray, 1830)',\n",
       " 'acceptedScientificName': 'Apus affinis (J.E.Gray, 1830)',\n",
       " 'kingdom': 'Animalia',\n",
       " 'phylum': 'Chordata',\n",
       " 'order': 'Apodiformes',\n",
       " 'family': 'Apodidae',\n",
       " 'genus': 'Apus',\n",
       " 'species': 'Apus affinis',\n",
       " 'genericName': 'Apus',\n",
       " 'specificEpithet': 'affinis',\n",
       " 'taxonRank': 'SPECIES',\n",
       " 'taxonomicStatus': 'ACCEPTED',\n",
       " 'decimalLongitude': -6.431208,\n",
       " 'decimalLatitude': 36.745169,\n",
       " 'coordinateUncertaintyInMeters': 25.0,\n",
       " 'continent': 'EUROPE',\n",
       " 'year': 2017,\n",
       " 'month': 1,\n",
       " 'day': 28,\n",
       " 'eventDate': '2017-01-28T00:00:00',\n",
       " 'issues': ['COORDINATE_ROUNDED',\n",
       "  'OCCURRENCE_STATUS_INFERRED_FROM_INDIVIDUAL_COUNT',\n",
       "  'INSTITUTION_MATCH_NONE',\n",
       "  'COLLECTION_MATCH_NONE'],\n",
       " 'modified': '2017-01-30T00:00:00.000+00:00',\n",
       " 'lastInterpreted': '2020-12-15T18:59:52.467+00:00',\n",
       " 'references': 'https://data.biodiversitydata.nl/obsint/observation/OBS.134196667',\n",
       " 'license': 'http://creativecommons.org/licenses/by-nc/4.0/legalcode',\n",
       " 'identifiers': [],\n",
       " 'media': [],\n",
       " 'facts': [],\n",
       " 'relations': [],\n",
       " 'gadm': {'level0': {'gid': 'ESP', 'name': 'Spain'},\n",
       "  'level1': {'gid': 'ESP.1_1', 'name': 'Andalucía'},\n",
       "  'level2': {'gid': 'ESP.1.2_1', 'name': 'Cádiz'},\n",
       "  'level3': {'gid': 'ESP.1.2.4_1', 'name': 'Costa Noroeste'}},\n",
       " 'isInCluster': False,\n",
       " 'geodeticDatum': 'WGS84',\n",
       " 'class': 'Aves',\n",
       " 'countryCode': 'ES',\n",
       " 'recordedByIDs': [],\n",
       " 'identifiedByIDs': [],\n",
       " 'country': 'Spain',\n",
       " 'rightsHolder': 'Stichting Natuurinformatie',\n",
       " 'identifier': '134196667@OBS',\n",
       " 'catalogNumber': 'OBS.134196667',\n",
       " 'vernacularName': 'Little Swift',\n",
       " 'locality': 'Spain - Chipiona',\n",
       " 'eventTime': '09:21',\n",
       " 'gbifID': '2832925045',\n",
       " 'collectionCode': 'Observations',\n",
       " 'occurrenceID': 'https://observation.org/observation/134196667',\n",
       " 'higherClassification': 'Animalia|SWIFTS_APODIDAE'}"
      ]
     },
     "execution_count": 38,
     "metadata": {},
     "output_type": "execute_result"
    }
   ],
   "source": [
    "taxon_res[1]"
   ]
  },
  {
   "cell_type": "code",
   "execution_count": 39,
   "id": "spectacular-private",
   "metadata": {},
   "outputs": [],
   "source": [
    "def get_occurences(cod_sp):\n",
    "    \n",
    "    years = range(1970, 2020)\n",
    "    x = []\n",
    "    \n",
    "    for y in years:\n",
    "        data = occ.search(taxonKey = cod_sp, limit = 300, country = 'ES', year = str(y))\n",
    "        #Get the number of occurrences:\n",
    "        x.append({str(y): data['count']})\n",
    "    \n",
    "        #Get the taxonomic information\n",
    "        taxonomic = data[\"results\"]\n",
    "        for dictionary in taxonomic:\n",
    "            species = dictionary[\"scientificName\"]\n",
    "            kingdom = dictionary[\"kingdom\"]            \n",
    "            year = dictionary[\"year\"]           \n",
    "            country = dictionary[\"country\"]\n",
    "            \n",
    "        \n",
    "    \n",
    "        species_info = {'species': species,\n",
    "                       'kingdom': kingdom,\n",
    "                       'country': country,\n",
    "                       'year' : year\n",
    "                      }\n",
    "       \n",
    "    \n",
    "    return x, species_info"
   ]
  },
  {
   "cell_type": "code",
   "execution_count": 40,
   "id": "rational-nylon",
   "metadata": {},
   "outputs": [
    {
     "data": {
      "text/plain": [
       "([{'1970': 6},\n",
       "  {'1971': 1},\n",
       "  {'1972': 5},\n",
       "  {'1973': 9},\n",
       "  {'1974': 6},\n",
       "  {'1975': 7},\n",
       "  {'1976': 9},\n",
       "  {'1977': 23},\n",
       "  {'1978': 15},\n",
       "  {'1979': 7},\n",
       "  {'1980': 3},\n",
       "  {'1981': 15},\n",
       "  {'1982': 41},\n",
       "  {'1983': 26},\n",
       "  {'1984': 20},\n",
       "  {'1985': 14},\n",
       "  {'1986': 23},\n",
       "  {'1987': 17},\n",
       "  {'1988': 15},\n",
       "  {'1989': 23},\n",
       "  {'1990': 5},\n",
       "  {'1991': 6},\n",
       "  {'1992': 11},\n",
       "  {'1993': 5},\n",
       "  {'1994': 5},\n",
       "  {'1995': 16},\n",
       "  {'1996': 12},\n",
       "  {'1997': 11},\n",
       "  {'1998': 10},\n",
       "  {'1999': 13},\n",
       "  {'2000': 3},\n",
       "  {'2001': 4},\n",
       "  {'2002': 6},\n",
       "  {'2003': 9},\n",
       "  {'2004': 20},\n",
       "  {'2005': 4},\n",
       "  {'2006': 9},\n",
       "  {'2007': 10},\n",
       "  {'2008': 3},\n",
       "  {'2009': 2},\n",
       "  {'2010': 7},\n",
       "  {'2011': 3},\n",
       "  {'2012': 20},\n",
       "  {'2013': 2},\n",
       "  {'2014': 0},\n",
       "  {'2015': 2},\n",
       "  {'2016': 3},\n",
       "  {'2017': 3},\n",
       "  {'2018': 8},\n",
       "  {'2019': 1}],\n",
       " {'species': 'Silene ciliata Pourr.',\n",
       "  'kingdom': 'Plantae',\n",
       "  'country': 'Spain',\n",
       "  'year': 2019})"
      ]
     },
     "execution_count": 40,
     "metadata": {},
     "output_type": "execute_result"
    }
   ],
   "source": [
    "y = get_occurences(7267056)"
   ]
  },
  {
   "cell_type": "code",
   "execution_count": 45,
   "id": "acoustic-native",
   "metadata": {},
   "outputs": [
    {
     "data": {
      "text/plain": [
       "2020"
      ]
     },
     "execution_count": 45,
     "metadata": {},
     "output_type": "execute_result"
    }
   ],
   "source": [
    "y"
   ]
  },
  {
   "cell_type": "code",
   "execution_count": null,
   "id": "cardiac-window",
   "metadata": {},
   "outputs": [],
   "source": []
  },
  {
   "cell_type": "code",
   "execution_count": null,
   "id": "continuing-david",
   "metadata": {},
   "outputs": [],
   "source": [
    "Orden"
   ]
  },
  {
   "cell_type": "code",
   "execution_count": null,
   "id": "finnish-appearance",
   "metadata": {},
   "outputs": [],
   "source": [
    "salmo_info = [Orden, Locality, Country]"
   ]
  },
  {
   "cell_type": "code",
   "execution_count": null,
   "id": "announced-celebration",
   "metadata": {},
   "outputs": [],
   "source": [
    "salmo_info"
   ]
  },
  {
   "cell_type": "code",
   "execution_count": null,
   "id": "typical-renaissance",
   "metadata": {},
   "outputs": [],
   "source": [
    "\n",
    "df = pd.DataFrame(x, species_info)\n",
    "df = df.T\n",
    "\n",
    "df.columns = [\"Order\", \"Location\", \"Country\"]\n",
    "df"
   ]
  },
  {
   "cell_type": "code",
   "execution_count": 44,
   "id": "alien-command",
   "metadata": {},
   "outputs": [
    {
     "ename": "ValueError",
     "evalue": "DataFrame constructor not properly called!",
     "output_type": "error",
     "traceback": [
      "\u001b[0;31m---------------------------------------------------------------------------\u001b[0m",
      "\u001b[0;31mValueError\u001b[0m                                Traceback (most recent call last)",
      "\u001b[0;32m<ipython-input-44-fc2e4ca83136>\u001b[0m in \u001b[0;36m<module>\u001b[0;34m\u001b[0m\n\u001b[0;32m----> 1\u001b[0;31m \u001b[0mdf\u001b[0m \u001b[0;34m=\u001b[0m \u001b[0mpd\u001b[0m\u001b[0;34m.\u001b[0m\u001b[0mDataFrame\u001b[0m\u001b[0;34m(\u001b[0m\u001b[0mdata\u001b[0m \u001b[0;34m=\u001b[0m \u001b[0my\u001b[0m\u001b[0;34m)\u001b[0m\u001b[0;34m\u001b[0m\u001b[0;34m\u001b[0m\u001b[0m\n\u001b[0m",
      "\u001b[0;32m~/.local/lib/python3.8/site-packages/pandas/core/frame.py\u001b[0m in \u001b[0;36m__init__\u001b[0;34m(self, data, index, columns, dtype, copy)\u001b[0m\n\u001b[1;32m    588\u001b[0m         \u001b[0;32melse\u001b[0m\u001b[0;34m:\u001b[0m\u001b[0;34m\u001b[0m\u001b[0;34m\u001b[0m\u001b[0m\n\u001b[1;32m    589\u001b[0m             \u001b[0;32mif\u001b[0m \u001b[0mindex\u001b[0m \u001b[0;32mis\u001b[0m \u001b[0;32mNone\u001b[0m \u001b[0;32mor\u001b[0m \u001b[0mcolumns\u001b[0m \u001b[0;32mis\u001b[0m \u001b[0;32mNone\u001b[0m\u001b[0;34m:\u001b[0m\u001b[0;34m\u001b[0m\u001b[0;34m\u001b[0m\u001b[0m\n\u001b[0;32m--> 590\u001b[0;31m                 \u001b[0;32mraise\u001b[0m \u001b[0mValueError\u001b[0m\u001b[0;34m(\u001b[0m\u001b[0;34m\"DataFrame constructor not properly called!\"\u001b[0m\u001b[0;34m)\u001b[0m\u001b[0;34m\u001b[0m\u001b[0;34m\u001b[0m\u001b[0m\n\u001b[0m\u001b[1;32m    591\u001b[0m \u001b[0;34m\u001b[0m\u001b[0m\n\u001b[1;32m    592\u001b[0m             \u001b[0;32mif\u001b[0m \u001b[0;32mnot\u001b[0m \u001b[0mdtype\u001b[0m\u001b[0;34m:\u001b[0m\u001b[0;34m\u001b[0m\u001b[0;34m\u001b[0m\u001b[0m\n",
      "\u001b[0;31mValueError\u001b[0m: DataFrame constructor not properly called!"
     ]
    }
   ],
   "source": [
    "df = pd.DataFrame(data = y)"
   ]
  },
  {
   "cell_type": "code",
   "execution_count": null,
   "id": "wound-butler",
   "metadata": {},
   "outputs": [],
   "source": []
  }
 ],
 "metadata": {
  "kernelspec": {
   "display_name": "Python 3",
   "language": "python",
   "name": "python3"
  },
  "language_info": {
   "codemirror_mode": {
    "name": "ipython",
    "version": 3
   },
   "file_extension": ".py",
   "mimetype": "text/x-python",
   "name": "python",
   "nbconvert_exporter": "python",
   "pygments_lexer": "ipython3",
   "version": "3.8.5"
  },
  "toc": {
   "base_numbering": 1,
   "nav_menu": {},
   "number_sections": true,
   "sideBar": true,
   "skip_h1_title": false,
   "title_cell": "Table of Contents",
   "title_sidebar": "Contents",
   "toc_cell": false,
   "toc_position": {
    "height": "757px",
    "left": "558px",
    "top": "143px",
    "width": "384px"
   },
   "toc_section_display": true,
   "toc_window_display": true
  },
  "varInspector": {
   "cols": {
    "lenName": 16,
    "lenType": 16,
    "lenVar": 40
   },
   "kernels_config": {
    "python": {
     "delete_cmd_postfix": "",
     "delete_cmd_prefix": "del ",
     "library": "var_list.py",
     "varRefreshCmd": "print(var_dic_list())"
    },
    "r": {
     "delete_cmd_postfix": ") ",
     "delete_cmd_prefix": "rm(",
     "library": "var_list.r",
     "varRefreshCmd": "cat(var_dic_list()) "
    }
   },
   "position": {
    "height": "385px",
    "left": "1550px",
    "right": "20px",
    "top": "120px",
    "width": "350px"
   },
   "types_to_exclude": [
    "module",
    "function",
    "builtin_function_or_method",
    "instance",
    "_Feature"
   ],
   "window_display": true
  }
 },
 "nbformat": 4,
 "nbformat_minor": 5
}
