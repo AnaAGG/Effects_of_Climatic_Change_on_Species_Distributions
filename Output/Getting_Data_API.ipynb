{
 "cells": [
  {
   "cell_type": "markdown",
   "id": "intimate-cameroon",
   "metadata": {
    "toc": true
   },
   "source": [
    "<h1>Table of Contents<span class=\"tocSkip\"></span></h1>\n",
    "<div class=\"toc\"><ul class=\"toc-item\"><li><span><a href=\"#Libraries\" data-toc-modified-id=\"Libraries-1\"><span class=\"toc-item-num\">1&nbsp;&nbsp;</span>Libraries</a></span></li><li><span><a href=\"#Request-data-from-de-API\" data-toc-modified-id=\"Request-data-from-de-API-2\"><span class=\"toc-item-num\">2&nbsp;&nbsp;</span>Request data from de API</a></span><ul class=\"toc-item\"><li><span><a href=\"#Request-data-from-the-server-to-obtain-taxonomic-infomation:\" data-toc-modified-id=\"Request-data-from-the-server-to-obtain-taxonomic-infomation:-2.1\"><span class=\"toc-item-num\">2.1&nbsp;&nbsp;</span>Request data from the server to obtain taxonomic infomation:</a></span></li><li><span><a href=\"#Get-the-total-number-of-occurrences-for-each-species\" data-toc-modified-id=\"Get-the-total-number-of-occurrences-for-each-species-2.2\"><span class=\"toc-item-num\">2.2&nbsp;&nbsp;</span>Get the total number of occurrences for each species</a></span></li></ul></li><li><span><a href=\"#Saving-the-dataframe\" data-toc-modified-id=\"Saving-the-dataframe-3\"><span class=\"toc-item-num\">3&nbsp;&nbsp;</span>Saving the dataframe</a></span></li></ul></div>"
   ]
  },
  {
   "cell_type": "markdown",
   "id": "offensive-funds",
   "metadata": {},
   "source": [
    "### Libraries "
   ]
  },
  {
   "cell_type": "markdown",
   "id": "welcome-engineering",
   "metadata": {},
   "source": [
    "pygbif is split up into modules for each of the major groups of API methods.\n",
    "\n",
    "Registry - Datasets, Nodes, Installations, Networks, Organizations\n",
    "Species - Taxonomic names\n",
    "Occurrences - Occurrence data, including the download API\n",
    "Maps - Maps, get raster maps from GBIF as png or mvt"
   ]
  },
  {
   "cell_type": "code",
   "execution_count": 1,
   "id": "distributed-commons",
   "metadata": {},
   "outputs": [],
   "source": [
    "import sys\n",
    "sys.path.append('../')"
   ]
  },
  {
   "cell_type": "code",
   "execution_count": 2,
   "id": "composed-hacker",
   "metadata": {},
   "outputs": [],
   "source": [
    "from pygbif import occurrences as occ\n",
    "from pygbif import species\n",
    "import requests\n",
    "import pandas as pd\n",
    "import src.functions_API as fa"
   ]
  },
  {
   "cell_type": "markdown",
   "id": "cellular-mirror",
   "metadata": {},
   "source": [
    "### Request data from de API"
   ]
  },
  {
   "cell_type": "markdown",
   "id": "headed-intersection",
   "metadata": {},
   "source": [
    "#### Request data from the server to obtain taxonomic infomation:"
   ]
  },
  {
   "cell_type": "code",
   "execution_count": 3,
   "id": "fancy-lighting",
   "metadata": {},
   "outputs": [
    {
     "data": {
      "text/plain": [
       "200"
      ]
     },
     "execution_count": 3,
     "metadata": {},
     "output_type": "execute_result"
    }
   ],
   "source": [
    "url = 'http://api.gbif.org/v1/species/match?verbose=true&name='\n",
    "data = requests.get(url)\n",
    "data.status_code"
   ]
  },
  {
   "cell_type": "markdown",
   "id": "broke-plenty",
   "metadata": {},
   "source": [
    "In order to call the species with the GBIF API, it is necessary to enter the codes for each species. As it is impossible to know the codes, I am going to generate a function that, giving the scientific name, will return the codes for each one of them."
   ]
  },
  {
   "cell_type": "code",
   "execution_count": 4,
   "id": "differential-northeast",
   "metadata": {},
   "outputs": [],
   "source": [
    "sp = ['Apus affinis', 'Apus caffer', 'Silene ciliata','Abies pinsapo', 'Ciconia ciconia',\n",
    "      'Anas penelope', 'Grus grus', 'Vanellus vanellus', 'Cortaderia selloana','Carpobrotus edulis', 'Alytes dickhilleni',\n",
    "      'Parnassius apollo', 'Melitaea cinxia', 'Sonchus tenerrimus']"
   ]
  },
  {
   "cell_type": "code",
   "execution_count": 5,
   "id": "another-guard",
   "metadata": {},
   "outputs": [
    {
     "data": {
      "text/plain": [
       "{'Apus affinis': 5228662,\n",
       " 'Apus caffer': 5228644,\n",
       " 'Silene ciliata': 7267056,\n",
       " 'Abies pinsapo': 2685464,\n",
       " 'Ciconia ciconia': 2481912,\n",
       " 'Anas penelope': 2498111,\n",
       " 'Grus grus': 2474950,\n",
       " 'Vanellus vanellus': 2480242,\n",
       " 'Cortaderia selloana': 2704523,\n",
       " 'Carpobrotus edulis': 3084842,\n",
       " 'Alytes dickhilleni': 2426613,\n",
       " 'Parnassius apollo': 1938810,\n",
       " 'Melitaea cinxia': 8168644,\n",
       " 'Sonchus tenerrimus': 3105768}"
      ]
     },
     "execution_count": 5,
     "metadata": {},
     "output_type": "execute_result"
    }
   ],
   "source": [
    "code_number = fa.get_species_name_from_codes(sp)\n",
    "code_number"
   ]
  },
  {
   "cell_type": "markdown",
   "id": "furnished-iraqi",
   "metadata": {},
   "source": [
    "#### Get the total number of occurrences for each species\n",
    "We can use the function occ.search which search for GBIF occurences."
   ]
  },
  {
   "cell_type": "code",
   "execution_count": 6,
   "id": "spanish-origin",
   "metadata": {},
   "outputs": [
    {
     "data": {
      "text/plain": [
       "200"
      ]
     },
     "execution_count": 6,
     "metadata": {},
     "output_type": "execute_result"
    }
   ],
   "source": [
    "response = requests.get('http://api.gbif.org/v1/occurrence/counts/datasets')\n",
    "response.status_code"
   ]
  },
  {
   "cell_type": "code",
   "execution_count": 7,
   "id": "regulation-distance",
   "metadata": {},
   "outputs": [],
   "source": [
    "sp_list = list(code_number.values())"
   ]
  },
  {
   "cell_type": "code",
   "execution_count": 8,
   "id": "adapted-particular",
   "metadata": {},
   "outputs": [
    {
     "name": "stdout",
     "output_type": "stream",
     "text": [
      "CPU times: user 0 ns, sys: 0 ns, total: 0 ns\n",
      "Wall time: 9.78 µs\n"
     ]
    }
   ],
   "source": [
    "%time\n",
    "all_occurrences = []\n",
    "for i in sp_list:\n",
    "    y = fa.join_occurrences_taxonomic(i)\n",
    "    all_occurrences.append(y)\n",
    "    \n"
   ]
  },
  {
   "cell_type": "code",
   "execution_count": 11,
   "id": "ecological-audio",
   "metadata": {},
   "outputs": [
    {
     "data": {
      "text/html": [
       "<div>\n",
       "<style scoped>\n",
       "    .dataframe tbody tr th:only-of-type {\n",
       "        vertical-align: middle;\n",
       "    }\n",
       "\n",
       "    .dataframe tbody tr th {\n",
       "        vertical-align: top;\n",
       "    }\n",
       "\n",
       "    .dataframe thead th {\n",
       "        text-align: right;\n",
       "    }\n",
       "</style>\n",
       "<table border=\"1\" class=\"dataframe\">\n",
       "  <thead>\n",
       "    <tr style=\"text-align: right;\">\n",
       "      <th></th>\n",
       "      <th>Year</th>\n",
       "      <th>Occurrences</th>\n",
       "      <th>species</th>\n",
       "      <th>kingdom</th>\n",
       "      <th>Genus</th>\n",
       "      <th>Family</th>\n",
       "      <th>country</th>\n",
       "      <th>records</th>\n",
       "      <th>Publishing_country</th>\n",
       "    </tr>\n",
       "  </thead>\n",
       "  <tbody>\n",
       "    <tr>\n",
       "      <th>0</th>\n",
       "      <td>1970</td>\n",
       "      <td>0</td>\n",
       "      <td>Apus affinis (J.E.Gray, 1830)</td>\n",
       "      <td>Animalia</td>\n",
       "      <td>Apus</td>\n",
       "      <td>Apodidae</td>\n",
       "      <td>Spain</td>\n",
       "      <td>HUMAN_OBSERVATION</td>\n",
       "      <td>ES</td>\n",
       "    </tr>\n",
       "    <tr>\n",
       "      <th>1</th>\n",
       "      <td>1971</td>\n",
       "      <td>0</td>\n",
       "      <td>Apus affinis (J.E.Gray, 1830)</td>\n",
       "      <td>Animalia</td>\n",
       "      <td>Apus</td>\n",
       "      <td>Apodidae</td>\n",
       "      <td>Spain</td>\n",
       "      <td>HUMAN_OBSERVATION</td>\n",
       "      <td>ES</td>\n",
       "    </tr>\n",
       "    <tr>\n",
       "      <th>2</th>\n",
       "      <td>1972</td>\n",
       "      <td>0</td>\n",
       "      <td>Apus affinis (J.E.Gray, 1830)</td>\n",
       "      <td>Animalia</td>\n",
       "      <td>Apus</td>\n",
       "      <td>Apodidae</td>\n",
       "      <td>Spain</td>\n",
       "      <td>HUMAN_OBSERVATION</td>\n",
       "      <td>ES</td>\n",
       "    </tr>\n",
       "    <tr>\n",
       "      <th>3</th>\n",
       "      <td>1973</td>\n",
       "      <td>0</td>\n",
       "      <td>Apus affinis (J.E.Gray, 1830)</td>\n",
       "      <td>Animalia</td>\n",
       "      <td>Apus</td>\n",
       "      <td>Apodidae</td>\n",
       "      <td>Spain</td>\n",
       "      <td>HUMAN_OBSERVATION</td>\n",
       "      <td>ES</td>\n",
       "    </tr>\n",
       "    <tr>\n",
       "      <th>4</th>\n",
       "      <td>1974</td>\n",
       "      <td>0</td>\n",
       "      <td>Apus affinis (J.E.Gray, 1830)</td>\n",
       "      <td>Animalia</td>\n",
       "      <td>Apus</td>\n",
       "      <td>Apodidae</td>\n",
       "      <td>Spain</td>\n",
       "      <td>HUMAN_OBSERVATION</td>\n",
       "      <td>ES</td>\n",
       "    </tr>\n",
       "    <tr>\n",
       "      <th>...</th>\n",
       "      <td>...</td>\n",
       "      <td>...</td>\n",
       "      <td>...</td>\n",
       "      <td>...</td>\n",
       "      <td>...</td>\n",
       "      <td>...</td>\n",
       "      <td>...</td>\n",
       "      <td>...</td>\n",
       "      <td>...</td>\n",
       "    </tr>\n",
       "    <tr>\n",
       "      <th>695</th>\n",
       "      <td>2015</td>\n",
       "      <td>143</td>\n",
       "      <td>Sonchus tenerrimus L.</td>\n",
       "      <td>Plantae</td>\n",
       "      <td>Sonchus</td>\n",
       "      <td>Asteraceae</td>\n",
       "      <td>Spain</td>\n",
       "      <td>HUMAN_OBSERVATION</td>\n",
       "      <td>US</td>\n",
       "    </tr>\n",
       "    <tr>\n",
       "      <th>696</th>\n",
       "      <td>2016</td>\n",
       "      <td>137</td>\n",
       "      <td>Sonchus tenerrimus L.</td>\n",
       "      <td>Plantae</td>\n",
       "      <td>Sonchus</td>\n",
       "      <td>Asteraceae</td>\n",
       "      <td>Spain</td>\n",
       "      <td>HUMAN_OBSERVATION</td>\n",
       "      <td>US</td>\n",
       "    </tr>\n",
       "    <tr>\n",
       "      <th>697</th>\n",
       "      <td>2017</td>\n",
       "      <td>50</td>\n",
       "      <td>Sonchus tenerrimus L.</td>\n",
       "      <td>Plantae</td>\n",
       "      <td>Sonchus</td>\n",
       "      <td>Asteraceae</td>\n",
       "      <td>Spain</td>\n",
       "      <td>HUMAN_OBSERVATION</td>\n",
       "      <td>US</td>\n",
       "    </tr>\n",
       "    <tr>\n",
       "      <th>698</th>\n",
       "      <td>2018</td>\n",
       "      <td>95</td>\n",
       "      <td>Sonchus tenerrimus L.</td>\n",
       "      <td>Plantae</td>\n",
       "      <td>Sonchus</td>\n",
       "      <td>Asteraceae</td>\n",
       "      <td>Spain</td>\n",
       "      <td>HUMAN_OBSERVATION</td>\n",
       "      <td>US</td>\n",
       "    </tr>\n",
       "    <tr>\n",
       "      <th>699</th>\n",
       "      <td>2019</td>\n",
       "      <td>166</td>\n",
       "      <td>Sonchus tenerrimus L.</td>\n",
       "      <td>Plantae</td>\n",
       "      <td>Sonchus</td>\n",
       "      <td>Asteraceae</td>\n",
       "      <td>Spain</td>\n",
       "      <td>HUMAN_OBSERVATION</td>\n",
       "      <td>US</td>\n",
       "    </tr>\n",
       "  </tbody>\n",
       "</table>\n",
       "<p>700 rows × 9 columns</p>\n",
       "</div>"
      ],
      "text/plain": [
       "     Year  Occurrences                        species   kingdom    Genus  \\\n",
       "0    1970            0  Apus affinis (J.E.Gray, 1830)  Animalia     Apus   \n",
       "1    1971            0  Apus affinis (J.E.Gray, 1830)  Animalia     Apus   \n",
       "2    1972            0  Apus affinis (J.E.Gray, 1830)  Animalia     Apus   \n",
       "3    1973            0  Apus affinis (J.E.Gray, 1830)  Animalia     Apus   \n",
       "4    1974            0  Apus affinis (J.E.Gray, 1830)  Animalia     Apus   \n",
       "..    ...          ...                            ...       ...      ...   \n",
       "695  2015          143          Sonchus tenerrimus L.   Plantae  Sonchus   \n",
       "696  2016          137          Sonchus tenerrimus L.   Plantae  Sonchus   \n",
       "697  2017           50          Sonchus tenerrimus L.   Plantae  Sonchus   \n",
       "698  2018           95          Sonchus tenerrimus L.   Plantae  Sonchus   \n",
       "699  2019          166          Sonchus tenerrimus L.   Plantae  Sonchus   \n",
       "\n",
       "         Family country            records Publishing_country  \n",
       "0      Apodidae   Spain  HUMAN_OBSERVATION                 ES  \n",
       "1      Apodidae   Spain  HUMAN_OBSERVATION                 ES  \n",
       "2      Apodidae   Spain  HUMAN_OBSERVATION                 ES  \n",
       "3      Apodidae   Spain  HUMAN_OBSERVATION                 ES  \n",
       "4      Apodidae   Spain  HUMAN_OBSERVATION                 ES  \n",
       "..          ...     ...                ...                ...  \n",
       "695  Asteraceae   Spain  HUMAN_OBSERVATION                 US  \n",
       "696  Asteraceae   Spain  HUMAN_OBSERVATION                 US  \n",
       "697  Asteraceae   Spain  HUMAN_OBSERVATION                 US  \n",
       "698  Asteraceae   Spain  HUMAN_OBSERVATION                 US  \n",
       "699  Asteraceae   Spain  HUMAN_OBSERVATION                 US  \n",
       "\n",
       "[700 rows x 9 columns]"
      ]
     },
     "execution_count": 11,
     "metadata": {},
     "output_type": "execute_result"
    }
   ],
   "source": [
    "df = pd.concat(all_occurrences).fillna(0).reset_index(drop=True)\n",
    "df"
   ]
  },
  {
   "cell_type": "markdown",
   "id": "disturbed-opera",
   "metadata": {},
   "source": [
    "### Saving the dataframe "
   ]
  },
  {
   "cell_type": "code",
   "execution_count": 12,
   "id": "varied-iraqi",
   "metadata": {},
   "outputs": [],
   "source": [
    "df.to_csv(\"species.csv\")"
   ]
  },
  {
   "cell_type": "code",
   "execution_count": null,
   "id": "mental-isolation",
   "metadata": {},
   "outputs": [],
   "source": []
  }
 ],
 "metadata": {
  "kernelspec": {
   "display_name": "Python 3",
   "language": "python",
   "name": "python3"
  },
  "language_info": {
   "codemirror_mode": {
    "name": "ipython",
    "version": 3
   },
   "file_extension": ".py",
   "mimetype": "text/x-python",
   "name": "python",
   "nbconvert_exporter": "python",
   "pygments_lexer": "ipython3",
   "version": "3.8.5"
  },
  "toc": {
   "base_numbering": 1,
   "nav_menu": {},
   "number_sections": true,
   "sideBar": true,
   "skip_h1_title": false,
   "title_cell": "Table of Contents",
   "title_sidebar": "Contents",
   "toc_cell": true,
   "toc_position": {
    "height": "757px",
    "left": "558px",
    "top": "143px",
    "width": "383.993px"
   },
   "toc_section_display": true,
   "toc_window_display": false
  },
  "varInspector": {
   "cols": {
    "lenName": 16,
    "lenType": 16,
    "lenVar": 40
   },
   "kernels_config": {
    "python": {
     "delete_cmd_postfix": "",
     "delete_cmd_prefix": "del ",
     "library": "var_list.py",
     "varRefreshCmd": "print(var_dic_list())"
    },
    "r": {
     "delete_cmd_postfix": ") ",
     "delete_cmd_prefix": "rm(",
     "library": "var_list.r",
     "varRefreshCmd": "cat(var_dic_list()) "
    }
   },
   "position": {
    "height": "385px",
    "left": "1550px",
    "right": "20px",
    "top": "120px",
    "width": "350px"
   },
   "types_to_exclude": [
    "module",
    "function",
    "builtin_function_or_method",
    "instance",
    "_Feature"
   ],
   "window_display": false
  }
 },
 "nbformat": 4,
 "nbformat_minor": 5
}
