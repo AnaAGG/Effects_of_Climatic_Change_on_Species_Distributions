{
 "cells": [
  {
   "cell_type": "markdown",
   "id": "quiet-component",
   "metadata": {},
   "source": [
    "## Load data and import libraries"
   ]
  },
  {
   "cell_type": "markdown",
   "id": "responsible-airplane",
   "metadata": {},
   "source": [
    "### **Libraries**"
   ]
  },
  {
   "cell_type": "code",
   "execution_count": 1,
   "id": "collectible-louisiana",
   "metadata": {},
   "outputs": [],
   "source": [
    "import pandas as pd\n",
    "import numpy as np\n",
    "import matplotlib.pyplot as plt\n",
    "import seaborn as sns\n",
    "\n",
    "import sys\n",
    "sys.path.append('../')"
   ]
  },
  {
   "cell_type": "markdown",
   "id": "stuck-refund",
   "metadata": {},
   "source": [
    "### Datasets"
   ]
  },
  {
   "cell_type": "code",
   "execution_count": 4,
   "id": "satellite-retention",
   "metadata": {},
   "outputs": [
    {
     "name": "stdout",
     "output_type": "stream",
     "text": [
      "/mnt/c/Users/agarc/Bootcamp_IronHack/Proyectos/P2_Kaggle-API/Output\r\n"
     ]
    }
   ],
   "source": [
    "!pwd"
   ]
  },
  {
   "cell_type": "code",
   "execution_count": 5,
   "id": "civil-serbia",
   "metadata": {},
   "outputs": [],
   "source": [
    "df_spain = pd.read_csv(\"../Data/Temperature_Spain.csv\")\n",
    "df_years = pd.read_csv(\"../Data/Temperature_Spain_year.csv\")\n",
    "df_months= pd.read_csv(\"../Data/Temperature_Spain_month.csv\")"
   ]
  },
  {
   "cell_type": "markdown",
   "id": "worldwide-vinyl",
   "metadata": {},
   "source": [
    "## Exploring the temperature data"
   ]
  },
  {
   "cell_type": "markdown",
   "id": "secret-letter",
   "metadata": {},
   "source": [
    "### Temperature and years"
   ]
  },
  {
   "cell_type": "markdown",
   "id": "textile-bulletin",
   "metadata": {},
   "source": [
    "## Exploring the species data"
   ]
  },
  {
   "cell_type": "markdown",
   "id": "mathematical-court",
   "metadata": {},
   "source": [
    "## Comparing temperature *vs* occurrences"
   ]
  },
  {
   "cell_type": "code",
   "execution_count": null,
   "id": "focal-senegal",
   "metadata": {},
   "outputs": [],
   "source": []
  }
 ],
 "metadata": {
  "kernelspec": {
   "display_name": "Python 3",
   "language": "python",
   "name": "python3"
  },
  "language_info": {
   "codemirror_mode": {
    "name": "ipython",
    "version": 3
   },
   "file_extension": ".py",
   "mimetype": "text/x-python",
   "name": "python",
   "nbconvert_exporter": "python",
   "pygments_lexer": "ipython3",
   "version": "3.8.5"
  },
  "toc": {
   "base_numbering": 1,
   "nav_menu": {},
   "number_sections": true,
   "sideBar": true,
   "skip_h1_title": false,
   "title_cell": "Table of Contents",
   "title_sidebar": "Contents",
   "toc_cell": false,
   "toc_position": {},
   "toc_section_display": true,
   "toc_window_display": true
  },
  "varInspector": {
   "cols": {
    "lenName": 16,
    "lenType": 16,
    "lenVar": 40
   },
   "kernels_config": {
    "python": {
     "delete_cmd_postfix": "",
     "delete_cmd_prefix": "del ",
     "library": "var_list.py",
     "varRefreshCmd": "print(var_dic_list())"
    },
    "r": {
     "delete_cmd_postfix": ") ",
     "delete_cmd_prefix": "rm(",
     "library": "var_list.r",
     "varRefreshCmd": "cat(var_dic_list()) "
    }
   },
   "types_to_exclude": [
    "module",
    "function",
    "builtin_function_or_method",
    "instance",
    "_Feature"
   ],
   "window_display": false
  }
 },
 "nbformat": 4,
 "nbformat_minor": 5
}
