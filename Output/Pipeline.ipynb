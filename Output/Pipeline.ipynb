{
 "cells": [
  {
   "cell_type": "markdown",
   "id": "conscious-genetics",
   "metadata": {
    "toc": true
   },
   "source": [
    "<h1>Table of Contents<span class=\"tocSkip\"></span></h1>\n",
    "<div class=\"toc\"><ul class=\"toc-item\"><li><span><a href=\"#Climatic-data-from-kaggle\" data-toc-modified-id=\"Climatic-data-from-kaggle-1\"><span class=\"toc-item-num\">1&nbsp;&nbsp;</span>Climatic data from kaggle</a></span></li><li><span><a href=\"#Import-data\" data-toc-modified-id=\"Import-data-2\"><span class=\"toc-item-num\">2&nbsp;&nbsp;</span>Import data</a></span></li><li><span><a href=\"#Exploring-the-dataset\" data-toc-modified-id=\"Exploring-the-dataset-3\"><span class=\"toc-item-num\">3&nbsp;&nbsp;</span>Exploring the dataset</a></span><ul class=\"toc-item\"><li><span><a href=\"#Loking-for-NaN\" data-toc-modified-id=\"Loking-for-NaN-3.1\"><span class=\"toc-item-num\">3.1&nbsp;&nbsp;</span>Loking for NaN</a></span><ul class=\"toc-item\"><li><span><a href=\"#NaN-along-rows\" data-toc-modified-id=\"NaN-along-rows-3.1.1\"><span class=\"toc-item-num\">3.1.1&nbsp;&nbsp;</span>NaN along rows</a></span></li><li><span><a href=\"#NaN-along-columns\" data-toc-modified-id=\"NaN-along-columns-3.1.2\"><span class=\"toc-item-num\">3.1.2&nbsp;&nbsp;</span>NaN along columns</a></span></li></ul></li><li><span><a href=\"#Cleaning-the-data-set\" data-toc-modified-id=\"Cleaning-the-data-set-3.2\"><span class=\"toc-item-num\">3.2&nbsp;&nbsp;</span>Cleaning the data set</a></span><ul class=\"toc-item\"><li><span><a href=\"#Remove-the-repetitive-first-columns\" data-toc-modified-id=\"Remove-the-repetitive-first-columns-3.2.1\"><span class=\"toc-item-num\">3.2.1&nbsp;&nbsp;</span>Remove the repetitive first columns</a></span></li><li><span><a href=\"#Get-Year-and-Months\" data-toc-modified-id=\"Get-Year-and-Months-3.2.2\"><span class=\"toc-item-num\">3.2.2&nbsp;&nbsp;</span>Get Year and Months</a></span></li></ul></li><li><span><a href=\"#Some-statistics\" data-toc-modified-id=\"Some-statistics-3.3\"><span class=\"toc-item-num\">3.3&nbsp;&nbsp;</span>Some statistics</a></span></li></ul></li></ul></div>"
   ]
  },
  {
   "cell_type": "code",
   "execution_count": 1,
   "id": "useful-forest",
   "metadata": {},
   "outputs": [],
   "source": [
    "import sys\n",
    "sys.path.append('../')"
   ]
  },
  {
   "cell_type": "code",
   "execution_count": 2,
   "id": "geological-apple",
   "metadata": {},
   "outputs": [],
   "source": [
    "import pandas as pd\n",
    "import src.functions_pipeline as fp\n",
    "import src.import_kaggle_data as kd\n",
    "from datetime import datetime"
   ]
  },
  {
   "cell_type": "markdown",
   "id": "minimal-metallic",
   "metadata": {},
   "source": [
    "## Climatic data from kaggle  "
   ]
  },
  {
   "cell_type": "markdown",
   "id": "cheap-nebraska",
   "metadata": {},
   "source": [
    "To complement the information on the species I will use information on the air temperature of the last 40 years. This database is taken from www.kaggle.com.\n",
    "\n",
    "[Daily_Temperature_Of_Major_Cities](https://www.kaggle.com/sudalairajkumar/daily-temperature-of-major-cities)\n"
   ]
  },
  {
   "cell_type": "markdown",
   "id": "official-arizona",
   "metadata": {},
   "source": [
    "## Import data"
   ]
  },
  {
   "cell_type": "code",
   "execution_count": null,
   "id": "recognized-poison",
   "metadata": {},
   "outputs": [],
   "source": [
    "kd.download_dataset()"
   ]
  },
  {
   "cell_type": "code",
   "execution_count": 3,
   "id": "compound-volleyball",
   "metadata": {},
   "outputs": [
    {
     "name": "stderr",
     "output_type": "stream",
     "text": [
      "/home/anagarcia/anaconda3/envs/ironhack/lib/python3.8/site-packages/IPython/core/interactiveshell.py:3146: DtypeWarning: Columns (1,2,3,4,5,6,7,8,9,10,11,12,13,14,15,16,17,18,19,20,21,22,23,24,25,26,27,28,29,30,31,32,33,34,35,36,37,38,39,40,41,42,43,44,45,46,47,48,49,50,51,52,53,54,55,56,57,58,59,60,61,62,63,64,65,66,67,68,69,70,71,72,73,74,75,76,77,78,79,80,81,82,83,84,85,86,87,88,89,90,91,92,93,94,95,96,97,98,99,100,101,102,103,104,105,106,107,108,109,110,111,112,113,114,115,116,117,118,119,120,121,122,123,124,125,126,127,128,129,130,131,132,133,134,135,136,137,138,139,140,141,142,143,144,145,146,147,148,149,150,151,152,153,154,155,156,157,158,159,160,161,162,163,164,165,166,167,168,169,170,171,172,173,174,175,176,177,178,179,180,181,182,183,184,185,186,187,188,189,190,191,192,193,194,195,196,197,198,199,200,201,202,203,204,205,206,207,208,209,210,211,212,213,214,215,216,217,218,219,220,221,222,223,224,225,226,227,228,229,230,231,232,233,234,235,236,237,238,239,240,241,242,243,244,245,246,247,248,249,250,251,252,253,254,255,256,257,258,259,260,261,262,263,264,265,266,267,268,269,270,271,272,273,274,275,276,277,278,279,280,281,282,283,284,285,286,287,288,289,290,291,292,293,294,295,296,297,298,299,300,301,302,303,304,305,306,307,308,309,310,311,312,313,314,315,316,317,318,319,320,321,322,323,324,325,326,327,328,329,330,331,332,333,334,335,336,337,338,339,340,341,342,343,344,345,346,347,348,349,350,351,352,353,354,355,356,357,358,359,360,361,362,363,364,365,366,367,368,369,370,371,372,373,374,375,376,377,378,379,380,381,382,383,384,385,386,387,388,389,390,391,392,393,394,395,396,397,398,399,400,401,402,403,404,405,406,407,408,409,410,411,412,413,414,415,416,417,418,419,420,421,422,423,424,425,426,427,428,429,430,431,432,433,434,435,436,437,438,439,440,441,442,443,444,445,446,447,448,449,450,451,452,453,454,455,456,457,458,459,460,461,462,463,464,465,466,467,468,469,470,471,472,473,474,475,476,477,478,479,480,481,482,483,484,485,486,487,488,489,490,491,492,493,494,495,496,497,498,499,500,501,502,503,504,505,506,507,508,509,510,511,512,513,514,515,516,517,518,519,520,521,522,523,524,525,526,527,528,529,530,531,532,533,534,535,536,537,538,539,540,541,542,543,544,545,546,547,548,549,550,551,552,553,554,555,556,557,558,559,560,561,562,563,564,565,566,567,568,569,570,571,572,573,574,575,576,577,578,579,580,581,582,583,584,585,586,587,588,589,590,591,592,593,594,595,596,597,598,599,600,601,602,603,604,605,606,607,608,609,610,611,612,613,614,615,616,617,618,619,620,621,622,623,624,625,626,627,628,629,630,631,632,633,634,635,636,637,638,639,640,641,642,643,644,645,646,647,648,649,650,651,652,653,654,655,656,657,658,659,660,661,662,663,664,665,666,667,668,669,670,671,672,673,674,675,676,677,678,679,680,681,682,683,684,685,686,687,688,689,690,691,692,693,694,695,696,697,698,699,700,701,702,703,704,705,706,707,708,709,710,711,712,713,714,715,716,717,718,719,720,721,722,723,724,725,726,727,728,729,730,731,732,733,734,735,736,737,738,739,740,741,742,743,744,745,746,747,748,749,750,751,752,753,754,755,756,757,758,759,760,761,762,763,764,765,766,767,768,769,770,771,772,773,774,775,776,777,778,779,780,781,782,783,784,785,786,787,788,789,790,791,792,793,794,795,796,797,798,799,800,801,802,803,804,805,806,807,808,809,810,811,812,813,814,815,816,817,818,819,820,821,822,823,824,825,826,827,828,829,830,831,832,833,834,835,836,837,838,839,840,841,842,843,844,845,846,847,848,849,850,851,852,853,854,855,856,857,858,859,860,861,862,863,864,865,866,867,868,869,870,871,872,873,874,875,876,877,878,879,880,881,882,883,884,885,886,887,888,889,890,891,892,893,894,895,896,897,898,899,900,901,902,903,904,905,906,907,908,909,910,911,912,913,914,915,916,917,918,919,920,921,922,923,924,925,926,927,928,929,930,931,932,933,934,935,936,937,938,939,940,941,942,943,944,945,946,947,948,949,950,951,952,953,954,955,956,957,958,959,960,961,962,963,964,965,966,967,968,969,970,971,972,973,974,975,976,977,978,979,980,981,982,983,984,985,986,987,988,989,990,991,992,993,994,995,996,997,998,999,1000) have mixed types.Specify dtype option on import or set low_memory=False.\n",
      "  has_raised = await self.run_ast_nodes(code_ast.body, cell_name,\n"
     ]
    }
   ],
   "source": [
    "df = pd.read_csv(\"../Data/daily_temperature.csv\",encoding = \"ISO-8859-1\", sep=';')"
   ]
  },
  {
   "cell_type": "code",
   "execution_count": 4,
   "id": "catholic-empty",
   "metadata": {},
   "outputs": [
    {
     "data": {
      "text/html": [
       "<div>\n",
       "<style scoped>\n",
       "    .dataframe tbody tr th:only-of-type {\n",
       "        vertical-align: middle;\n",
       "    }\n",
       "\n",
       "    .dataframe tbody tr th {\n",
       "        vertical-align: top;\n",
       "    }\n",
       "\n",
       "    .dataframe thead th {\n",
       "        text-align: right;\n",
       "    }\n",
       "</style>\n",
       "<table border=\"1\" class=\"dataframe\">\n",
       "  <thead>\n",
       "    <tr style=\"text-align: right;\">\n",
       "      <th></th>\n",
       "      <th>Unnamed: 0</th>\n",
       "      <th>0</th>\n",
       "      <th>1</th>\n",
       "      <th>2</th>\n",
       "      <th>3</th>\n",
       "      <th>4</th>\n",
       "      <th>5</th>\n",
       "      <th>6</th>\n",
       "      <th>7</th>\n",
       "      <th>8</th>\n",
       "      <th>...</th>\n",
       "      <th>990</th>\n",
       "      <th>991</th>\n",
       "      <th>992</th>\n",
       "      <th>993</th>\n",
       "      <th>994</th>\n",
       "      <th>995</th>\n",
       "      <th>996</th>\n",
       "      <th>997</th>\n",
       "      <th>998</th>\n",
       "      <th>999</th>\n",
       "    </tr>\n",
       "  </thead>\n",
       "  <tbody>\n",
       "    <tr>\n",
       "      <th>0</th>\n",
       "      <td>city</td>\n",
       "      <td>Tokyo</td>\n",
       "      <td>New York</td>\n",
       "      <td>Mexico City</td>\n",
       "      <td>Mumbai</td>\n",
       "      <td>SÃ£o Paulo</td>\n",
       "      <td>Delhi</td>\n",
       "      <td>Shanghai</td>\n",
       "      <td>Kolkata</td>\n",
       "      <td>Los Angeles</td>\n",
       "      <td>...</td>\n",
       "      <td>BilÄspur</td>\n",
       "      <td>Sargodha</td>\n",
       "      <td>Leipzig</td>\n",
       "      <td>Tinnevelly</td>\n",
       "      <td>CancÃºn</td>\n",
       "      <td>Yangzhou</td>\n",
       "      <td>Novokuznetsk</td>\n",
       "      <td>Latakia</td>\n",
       "      <td>Heroica Matamoros</td>\n",
       "      <td>GÃ¶teborg</td>\n",
       "    </tr>\n",
       "    <tr>\n",
       "      <th>1</th>\n",
       "      <td>city_ascii</td>\n",
       "      <td>Tokyo</td>\n",
       "      <td>New York</td>\n",
       "      <td>Mexico City</td>\n",
       "      <td>Mumbai</td>\n",
       "      <td>Sao Paulo</td>\n",
       "      <td>Delhi</td>\n",
       "      <td>Shanghai</td>\n",
       "      <td>Kolkata</td>\n",
       "      <td>Los Angeles</td>\n",
       "      <td>...</td>\n",
       "      <td>Bilaspur</td>\n",
       "      <td>Sargodha</td>\n",
       "      <td>Leipzig</td>\n",
       "      <td>Tinnevelly</td>\n",
       "      <td>Cancun</td>\n",
       "      <td>Yangzhou</td>\n",
       "      <td>Novokuznetsk</td>\n",
       "      <td>Latakia</td>\n",
       "      <td>Heroica Matamoros</td>\n",
       "      <td>Goteborg</td>\n",
       "    </tr>\n",
       "    <tr>\n",
       "      <th>2</th>\n",
       "      <td>lat</td>\n",
       "      <td>35.685</td>\n",
       "      <td>406.943</td>\n",
       "      <td>194.424</td>\n",
       "      <td>19.017</td>\n",
       "      <td>-235.587</td>\n",
       "      <td>28.67</td>\n",
       "      <td>312.165</td>\n",
       "      <td>22.495</td>\n",
       "      <td>341.139</td>\n",
       "      <td>...</td>\n",
       "      <td>220.904</td>\n",
       "      <td>320.854</td>\n",
       "      <td>513.354</td>\n",
       "      <td>87.304</td>\n",
       "      <td>21.17</td>\n",
       "      <td>32.4</td>\n",
       "      <td>53.75</td>\n",
       "      <td>35.54</td>\n",
       "      <td>25.88</td>\n",
       "      <td>57.75</td>\n",
       "    </tr>\n",
       "    <tr>\n",
       "      <th>3</th>\n",
       "      <td>lng</td>\n",
       "      <td>1.397.514</td>\n",
       "      <td>-739.249</td>\n",
       "      <td>-99.131</td>\n",
       "      <td>72.857</td>\n",
       "      <td>-46.625</td>\n",
       "      <td>77.23</td>\n",
       "      <td>1.214.365</td>\n",
       "      <td>883.247</td>\n",
       "      <td>-1.184.068</td>\n",
       "      <td>...</td>\n",
       "      <td>82.16</td>\n",
       "      <td>72.675</td>\n",
       "      <td>12.41</td>\n",
       "      <td>77.69</td>\n",
       "      <td>-86.83</td>\n",
       "      <td>119.43</td>\n",
       "      <td>87.115</td>\n",
       "      <td>35.78</td>\n",
       "      <td>-97.5</td>\n",
       "      <td>12.0</td>\n",
       "    </tr>\n",
       "    <tr>\n",
       "      <th>4</th>\n",
       "      <td>country</td>\n",
       "      <td>Japan</td>\n",
       "      <td>United States</td>\n",
       "      <td>Mexico</td>\n",
       "      <td>India</td>\n",
       "      <td>Brazil</td>\n",
       "      <td>India</td>\n",
       "      <td>China</td>\n",
       "      <td>India</td>\n",
       "      <td>United States</td>\n",
       "      <td>...</td>\n",
       "      <td>India</td>\n",
       "      <td>Pakistan</td>\n",
       "      <td>Germany</td>\n",
       "      <td>India</td>\n",
       "      <td>Mexico</td>\n",
       "      <td>China</td>\n",
       "      <td>Russia</td>\n",
       "      <td>Syria</td>\n",
       "      <td>Mexico</td>\n",
       "      <td>Sweden</td>\n",
       "    </tr>\n",
       "    <tr>\n",
       "      <th>5</th>\n",
       "      <td>iso2</td>\n",
       "      <td>JP</td>\n",
       "      <td>US</td>\n",
       "      <td>MX</td>\n",
       "      <td>IN</td>\n",
       "      <td>BR</td>\n",
       "      <td>IN</td>\n",
       "      <td>CN</td>\n",
       "      <td>IN</td>\n",
       "      <td>US</td>\n",
       "      <td>...</td>\n",
       "      <td>IN</td>\n",
       "      <td>PK</td>\n",
       "      <td>DE</td>\n",
       "      <td>IN</td>\n",
       "      <td>MX</td>\n",
       "      <td>CN</td>\n",
       "      <td>RU</td>\n",
       "      <td>SY</td>\n",
       "      <td>MX</td>\n",
       "      <td>SE</td>\n",
       "    </tr>\n",
       "    <tr>\n",
       "      <th>6</th>\n",
       "      <td>iso3</td>\n",
       "      <td>JPN</td>\n",
       "      <td>USA</td>\n",
       "      <td>MEX</td>\n",
       "      <td>IND</td>\n",
       "      <td>BRA</td>\n",
       "      <td>IND</td>\n",
       "      <td>CHN</td>\n",
       "      <td>IND</td>\n",
       "      <td>USA</td>\n",
       "      <td>...</td>\n",
       "      <td>IND</td>\n",
       "      <td>PAK</td>\n",
       "      <td>DEU</td>\n",
       "      <td>IND</td>\n",
       "      <td>MEX</td>\n",
       "      <td>CHN</td>\n",
       "      <td>RUS</td>\n",
       "      <td>SYR</td>\n",
       "      <td>MEX</td>\n",
       "      <td>SWE</td>\n",
       "    </tr>\n",
       "    <tr>\n",
       "      <th>7</th>\n",
       "      <td>admin_name</td>\n",
       "      <td>TÅkyÅ</td>\n",
       "      <td>New York</td>\n",
       "      <td>Ciudad de MÃ©xico</td>\n",
       "      <td>MahÄrÄshtra</td>\n",
       "      <td>SÃ£o Paulo</td>\n",
       "      <td>Delhi</td>\n",
       "      <td>Shanghai</td>\n",
       "      <td>West Bengal</td>\n",
       "      <td>California</td>\n",
       "      <td>...</td>\n",
       "      <td>ChhattÄ«sgarh</td>\n",
       "      <td>Punjab</td>\n",
       "      <td>Saxony</td>\n",
       "      <td>Tamil NÄdu</td>\n",
       "      <td>Quintana Roo</td>\n",
       "      <td>Jiangsu</td>\n",
       "      <td>Kemerovskaya Oblastâ</td>\n",
       "      <td>Al LÄdhiqÄ«yah</td>\n",
       "      <td>Tamaulipas</td>\n",
       "      <td>VÃ¤stra GÃ¶taland</td>\n",
       "    </tr>\n",
       "    <tr>\n",
       "      <th>8</th>\n",
       "      <td>capital</td>\n",
       "      <td>primary</td>\n",
       "      <td>NaN</td>\n",
       "      <td>primary</td>\n",
       "      <td>admin</td>\n",
       "      <td>admin</td>\n",
       "      <td>admin</td>\n",
       "      <td>admin</td>\n",
       "      <td>admin</td>\n",
       "      <td>NaN</td>\n",
       "      <td>...</td>\n",
       "      <td>NaN</td>\n",
       "      <td>minor</td>\n",
       "      <td>minor</td>\n",
       "      <td>NaN</td>\n",
       "      <td>minor</td>\n",
       "      <td>NaN</td>\n",
       "      <td>NaN</td>\n",
       "      <td>admin</td>\n",
       "      <td>minor</td>\n",
       "      <td>admin</td>\n",
       "    </tr>\n",
       "    <tr>\n",
       "      <th>9</th>\n",
       "      <td>population</td>\n",
       "      <td>35676000.0</td>\n",
       "      <td>19354922.0</td>\n",
       "      <td>19028000.0</td>\n",
       "      <td>18978000.0</td>\n",
       "      <td>18845000.0</td>\n",
       "      <td>15926000.0</td>\n",
       "      <td>14987000.0</td>\n",
       "      <td>14787000.0</td>\n",
       "      <td>12815475.0</td>\n",
       "      <td>...</td>\n",
       "      <td>543454.0</td>\n",
       "      <td>542603.0</td>\n",
       "      <td>542529.0</td>\n",
       "      <td>542200.0</td>\n",
       "      <td>542043.0</td>\n",
       "      <td>539715.0</td>\n",
       "      <td>539616.0</td>\n",
       "      <td>539147.0</td>\n",
       "      <td>538785.0</td>\n",
       "      <td>537797.0</td>\n",
       "    </tr>\n",
       "    <tr>\n",
       "      <th>10</th>\n",
       "      <td>id</td>\n",
       "      <td>1392685764</td>\n",
       "      <td>1840034016</td>\n",
       "      <td>1484247881</td>\n",
       "      <td>1356226629</td>\n",
       "      <td>1076532519</td>\n",
       "      <td>1356872604</td>\n",
       "      <td>1156073548</td>\n",
       "      <td>1356060520</td>\n",
       "      <td>1840020491</td>\n",
       "      <td>...</td>\n",
       "      <td>1356820491</td>\n",
       "      <td>1586696588</td>\n",
       "      <td>1276563678</td>\n",
       "      <td>1356037155</td>\n",
       "      <td>1484010310</td>\n",
       "      <td>1156818601</td>\n",
       "      <td>1643628717</td>\n",
       "      <td>1760555544</td>\n",
       "      <td>1484614906</td>\n",
       "      <td>1752059374</td>\n",
       "    </tr>\n",
       "    <tr>\n",
       "      <th>11</th>\n",
       "      <td>datetime</td>\n",
       "      <td>0</td>\n",
       "      <td>1</td>\n",
       "      <td>2</td>\n",
       "      <td>3</td>\n",
       "      <td>4</td>\n",
       "      <td>5</td>\n",
       "      <td>6</td>\n",
       "      <td>7</td>\n",
       "      <td>8</td>\n",
       "      <td>...</td>\n",
       "      <td>990</td>\n",
       "      <td>991</td>\n",
       "      <td>992</td>\n",
       "      <td>993</td>\n",
       "      <td>994</td>\n",
       "      <td>995</td>\n",
       "      <td>996</td>\n",
       "      <td>997</td>\n",
       "      <td>998</td>\n",
       "      <td>999</td>\n",
       "    </tr>\n",
       "    <tr>\n",
       "      <th>12</th>\n",
       "      <td>01/01/1980</td>\n",
       "      <td>4.16</td>\n",
       "      <td>1.48</td>\n",
       "      <td>11.35</td>\n",
       "      <td>23.4</td>\n",
       "      <td>17.86</td>\n",
       "      <td>13.74</td>\n",
       "      <td>9.1</td>\n",
       "      <td>20.47</td>\n",
       "      <td>14.24</td>\n",
       "      <td>...</td>\n",
       "      <td>22.14</td>\n",
       "      <td>11.54</td>\n",
       "      <td>0.67</td>\n",
       "      <td>24.05</td>\n",
       "      <td>21.21</td>\n",
       "      <td>3.71</td>\n",
       "      <td>-13.88</td>\n",
       "      <td>11.68</td>\n",
       "      <td>17.67</td>\n",
       "      <td>-0.82</td>\n",
       "    </tr>\n",
       "    <tr>\n",
       "      <th>13</th>\n",
       "      <td>02/01/1980</td>\n",
       "      <td>4.06</td>\n",
       "      <td>1.0</td>\n",
       "      <td>10.01</td>\n",
       "      <td>22.67</td>\n",
       "      <td>18.65</td>\n",
       "      <td>12.85</td>\n",
       "      <td>6.4</td>\n",
       "      <td>19.37</td>\n",
       "      <td>13.77</td>\n",
       "      <td>...</td>\n",
       "      <td>22.26</td>\n",
       "      <td>11.13</td>\n",
       "      <td>-0.88</td>\n",
       "      <td>24.19</td>\n",
       "      <td>23.29</td>\n",
       "      <td>3.26</td>\n",
       "      <td>-15.05</td>\n",
       "      <td>13.71</td>\n",
       "      <td>17.7</td>\n",
       "      <td>-5.25</td>\n",
       "    </tr>\n",
       "    <tr>\n",
       "      <th>14</th>\n",
       "      <td>03/01/1980</td>\n",
       "      <td>7.12</td>\n",
       "      <td>-3.23</td>\n",
       "      <td>9.67</td>\n",
       "      <td>22.3</td>\n",
       "      <td>18.42</td>\n",
       "      <td>10.5</td>\n",
       "      <td>5.43</td>\n",
       "      <td>18.71</td>\n",
       "      <td>12.08</td>\n",
       "      <td>...</td>\n",
       "      <td>21.09</td>\n",
       "      <td>10.28</td>\n",
       "      <td>-4.3</td>\n",
       "      <td>24.39</td>\n",
       "      <td>24.04</td>\n",
       "      <td>2.17</td>\n",
       "      <td>-14.19</td>\n",
       "      <td>13.0</td>\n",
       "      <td>11.19</td>\n",
       "      <td>-13.0</td>\n",
       "    </tr>\n",
       "  </tbody>\n",
       "</table>\n",
       "<p>15 rows × 1001 columns</p>\n",
       "</div>"
      ],
      "text/plain": [
       "    Unnamed: 0           0              1                  2              3  \\\n",
       "0         city       Tokyo       New York        Mexico City         Mumbai   \n",
       "1   city_ascii       Tokyo       New York        Mexico City         Mumbai   \n",
       "2          lat      35.685        406.943            194.424         19.017   \n",
       "3          lng   1.397.514       -739.249            -99.131         72.857   \n",
       "4      country       Japan  United States             Mexico          India   \n",
       "5         iso2          JP             US                 MX             IN   \n",
       "6         iso3         JPN            USA                MEX            IND   \n",
       "7   admin_name     TÅkyÅ       New York  Ciudad de MÃ©xico  MahÄrÄshtra   \n",
       "8      capital     primary            NaN            primary          admin   \n",
       "9   population  35676000.0     19354922.0         19028000.0     18978000.0   \n",
       "10          id  1392685764     1840034016         1484247881     1356226629   \n",
       "11    datetime           0              1                  2              3   \n",
       "12  01/01/1980        4.16           1.48              11.35           23.4   \n",
       "13  02/01/1980        4.06            1.0              10.01          22.67   \n",
       "14  03/01/1980        7.12          -3.23               9.67           22.3   \n",
       "\n",
       "             4           5           6            7              8  ...  \\\n",
       "0   SÃ£o Paulo       Delhi    Shanghai      Kolkata    Los Angeles  ...   \n",
       "1    Sao Paulo       Delhi    Shanghai      Kolkata    Los Angeles  ...   \n",
       "2     -235.587       28.67     312.165       22.495        341.139  ...   \n",
       "3      -46.625       77.23   1.214.365      883.247     -1.184.068  ...   \n",
       "4       Brazil       India       China        India  United States  ...   \n",
       "5           BR          IN          CN           IN             US  ...   \n",
       "6          BRA         IND         CHN          IND            USA  ...   \n",
       "7   SÃ£o Paulo       Delhi    Shanghai  West Bengal     California  ...   \n",
       "8        admin       admin       admin        admin            NaN  ...   \n",
       "9   18845000.0  15926000.0  14987000.0   14787000.0     12815475.0  ...   \n",
       "10  1076532519  1356872604  1156073548   1356060520     1840020491  ...   \n",
       "11           4           5           6            7              8  ...   \n",
       "12       17.86       13.74         9.1        20.47          14.24  ...   \n",
       "13       18.65       12.85         6.4        19.37          13.77  ...   \n",
       "14       18.42        10.5        5.43        18.71          12.08  ...   \n",
       "\n",
       "              990         991         992           993           994  \\\n",
       "0       BilÄspur    Sargodha     Leipzig    Tinnevelly       CancÃºn   \n",
       "1        Bilaspur    Sargodha     Leipzig    Tinnevelly        Cancun   \n",
       "2         220.904     320.854     513.354        87.304         21.17   \n",
       "3           82.16      72.675       12.41         77.69        -86.83   \n",
       "4           India    Pakistan     Germany         India        Mexico   \n",
       "5              IN          PK          DE            IN            MX   \n",
       "6             IND         PAK         DEU           IND           MEX   \n",
       "7   ChhattÄ«sgarh      Punjab      Saxony  Tamil NÄdu   Quintana Roo   \n",
       "8             NaN       minor       minor           NaN         minor   \n",
       "9        543454.0    542603.0    542529.0      542200.0      542043.0   \n",
       "10     1356820491  1586696588  1276563678    1356037155    1484010310   \n",
       "11            990         991         992           993           994   \n",
       "12          22.14       11.54        0.67         24.05         21.21   \n",
       "13          22.26       11.13       -0.88         24.19         23.29   \n",
       "14          21.09       10.28        -4.3         24.39         24.04   \n",
       "\n",
       "           995                     996              997                998  \\\n",
       "0     Yangzhou            Novokuznetsk          Latakia  Heroica Matamoros   \n",
       "1     Yangzhou            Novokuznetsk          Latakia  Heroica Matamoros   \n",
       "2         32.4                   53.75            35.54              25.88   \n",
       "3       119.43                  87.115            35.78              -97.5   \n",
       "4        China                  Russia            Syria             Mexico   \n",
       "5           CN                      RU               SY                 MX   \n",
       "6          CHN                     RUS              SYR                MEX   \n",
       "7      Jiangsu  Kemerovskaya Oblastâ  Al LÄdhiqÄ«yah         Tamaulipas   \n",
       "8          NaN                     NaN            admin              minor   \n",
       "9     539715.0                539616.0         539147.0           538785.0   \n",
       "10  1156818601              1643628717       1760555544         1484614906   \n",
       "11         995                     996              997                998   \n",
       "12        3.71                  -13.88            11.68              17.67   \n",
       "13        3.26                  -15.05            13.71               17.7   \n",
       "14        2.17                  -14.19             13.0              11.19   \n",
       "\n",
       "                  999  \n",
       "0           GÃ¶teborg  \n",
       "1            Goteborg  \n",
       "2               57.75  \n",
       "3                12.0  \n",
       "4              Sweden  \n",
       "5                  SE  \n",
       "6                 SWE  \n",
       "7   VÃ¤stra GÃ¶taland  \n",
       "8               admin  \n",
       "9            537797.0  \n",
       "10         1752059374  \n",
       "11                999  \n",
       "12              -0.82  \n",
       "13              -5.25  \n",
       "14              -13.0  \n",
       "\n",
       "[15 rows x 1001 columns]"
      ]
     },
     "execution_count": 4,
     "metadata": {},
     "output_type": "execute_result"
    }
   ],
   "source": [
    "df[:15]"
   ]
  },
  {
   "cell_type": "markdown",
   "id": "mathematical-macintosh",
   "metadata": {},
   "source": [
    "## Exploring the dataset"
   ]
  },
  {
   "cell_type": "code",
   "execution_count": 5,
   "id": "improved-greensboro",
   "metadata": {},
   "outputs": [
    {
     "data": {
      "text/plain": [
       "(14896, 1001)"
      ]
     },
     "execution_count": 5,
     "metadata": {},
     "output_type": "execute_result"
    }
   ],
   "source": [
    "df.shape"
   ]
  },
  {
   "cell_type": "code",
   "execution_count": 6,
   "id": "generic-program",
   "metadata": {},
   "outputs": [
    {
     "data": {
      "text/plain": [
       "Unnamed: 0    object\n",
       "0             object\n",
       "1             object\n",
       "2             object\n",
       "3             object\n",
       "               ...  \n",
       "995           object\n",
       "996           object\n",
       "997           object\n",
       "998           object\n",
       "999           object\n",
       "Length: 1001, dtype: object"
      ]
     },
     "execution_count": 6,
     "metadata": {},
     "output_type": "execute_result"
    }
   ],
   "source": [
    "df.dtypes"
   ]
  },
  {
   "cell_type": "markdown",
   "id": "copyrighted-paint",
   "metadata": {},
   "source": [
    "### Loking for NaN "
   ]
  },
  {
   "cell_type": "markdown",
   "id": "buried-travel",
   "metadata": {},
   "source": [
    "The first thing I want to do is to evaluate the number of NaN I have in the rows and columns to see if I should remove any of them because they have too many NaN."
   ]
  },
  {
   "cell_type": "markdown",
   "id": "gorgeous-yemen",
   "metadata": {},
   "source": [
    "#### NaN along rows "
   ]
  },
  {
   "cell_type": "code",
   "execution_count": 7,
   "id": "governing-match",
   "metadata": {},
   "outputs": [
    {
     "data": {
      "text/plain": [
       "8       0.258741\n",
       "7       0.017982\n",
       "9       0.004995\n",
       "5       0.000999\n",
       "9929    0.000000\n",
       "dtype: float64"
      ]
     },
     "execution_count": 7,
     "metadata": {},
     "output_type": "execute_result"
    }
   ],
   "source": [
    "null_rows = df.isnull().sum(axis = 1).apply (lambda y: y/df.shape[1]).sort_values(ascending = False)\n",
    "null_rows[:5]"
   ]
  },
  {
   "cell_type": "markdown",
   "id": "yellow-stamp",
   "metadata": {},
   "source": [
    "The row 8 presents lowest percentage of NaN  with a 0.25%, so I will decide to leave it. 9929 (0.66 %) rows have all the data."
   ]
  },
  {
   "cell_type": "markdown",
   "id": "bigger-birth",
   "metadata": {},
   "source": [
    "#### NaN along columns"
   ]
  },
  {
   "cell_type": "code",
   "execution_count": 8,
   "id": "assigned-engineer",
   "metadata": {},
   "outputs": [
    {
     "data": {
      "text/plain": [
       "600    0.000134\n",
       "32     0.000134\n",
       "959    0.000134\n",
       "601    0.000134\n",
       "844    0.000067\n",
       "dtype: float64"
      ]
     },
     "execution_count": 8,
     "metadata": {},
     "output_type": "execute_result"
    }
   ],
   "source": [
    "null_col = df.isnull().sum().apply(lambda x: x/df.shape[0]).sort_values(ascending=False)\n",
    "null_col[:5]"
   ]
  },
  {
   "cell_type": "markdown",
   "id": "postal-supplement",
   "metadata": {},
   "source": [
    "Overall, all columns are complete, so I won't delete any"
   ]
  },
  {
   "cell_type": "markdown",
   "id": "precious-public",
   "metadata": {},
   "source": [
    "### Cleaning the data set "
   ]
  },
  {
   "cell_type": "markdown",
   "id": "modular-behavior",
   "metadata": {},
   "source": [
    "#### Remove the repetitive first columns\n",
    "\n",
    "The first 11 rows have repeated information about the countries. I will leave only one, which I will also move to the top of the table. **I'll keep row 2 (with nidex 1) for the DataFrame header**"
   ]
  },
  {
   "cell_type": "code",
   "execution_count": 9,
   "id": "martial-checklist",
   "metadata": {},
   "outputs": [],
   "source": [
    "def get_header(df, iloc):\n",
    "    '''\n",
    "    Convert given row to column header for Pandas DataFrame\n",
    "    \n",
    "    Args:\n",
    "        data(pd.DataFrame): working dataframe\n",
    "        iloc(int): the iloc of the column we want to make heading\n",
    "        \n",
    "    Return:\n",
    "        pd.DataFrame with the new heading determined\n",
    "    '''\n",
    "    headers = df.iloc[iloc] \n",
    "    df = pd.DataFrame(df.values[1:], columns=headers)\n",
    "    df.columns = df.iloc[0, :]\n",
    "    return df"
   ]
  },
  {
   "cell_type": "code",
   "execution_count": 10,
   "id": "pointed-enterprise",
   "metadata": {},
   "outputs": [],
   "source": [
    "df = get_header(df, 1)"
   ]
  },
  {
   "cell_type": "code",
   "execution_count": 11,
   "id": "eight-painting",
   "metadata": {},
   "outputs": [
    {
     "data": {
      "text/html": [
       "<div>\n",
       "<style scoped>\n",
       "    .dataframe tbody tr th:only-of-type {\n",
       "        vertical-align: middle;\n",
       "    }\n",
       "\n",
       "    .dataframe tbody tr th {\n",
       "        vertical-align: top;\n",
       "    }\n",
       "\n",
       "    .dataframe thead th {\n",
       "        text-align: right;\n",
       "    }\n",
       "</style>\n",
       "<table border=\"1\" class=\"dataframe\">\n",
       "  <thead>\n",
       "    <tr style=\"text-align: right;\">\n",
       "      <th></th>\n",
       "      <th>city_ascii</th>\n",
       "      <th>Tokyo</th>\n",
       "      <th>New York</th>\n",
       "      <th>Mexico City</th>\n",
       "      <th>Mumbai</th>\n",
       "      <th>Sao Paulo</th>\n",
       "      <th>Delhi</th>\n",
       "      <th>Shanghai</th>\n",
       "      <th>Kolkata</th>\n",
       "      <th>Los Angeles</th>\n",
       "      <th>...</th>\n",
       "      <th>Bilaspur</th>\n",
       "      <th>Sargodha</th>\n",
       "      <th>Leipzig</th>\n",
       "      <th>Tinnevelly</th>\n",
       "      <th>Cancun</th>\n",
       "      <th>Yangzhou</th>\n",
       "      <th>Novokuznetsk</th>\n",
       "      <th>Latakia</th>\n",
       "      <th>Heroica Matamoros</th>\n",
       "      <th>Goteborg</th>\n",
       "    </tr>\n",
       "  </thead>\n",
       "  <tbody>\n",
       "    <tr>\n",
       "      <th>0</th>\n",
       "      <td>city_ascii</td>\n",
       "      <td>Tokyo</td>\n",
       "      <td>New York</td>\n",
       "      <td>Mexico City</td>\n",
       "      <td>Mumbai</td>\n",
       "      <td>Sao Paulo</td>\n",
       "      <td>Delhi</td>\n",
       "      <td>Shanghai</td>\n",
       "      <td>Kolkata</td>\n",
       "      <td>Los Angeles</td>\n",
       "      <td>...</td>\n",
       "      <td>Bilaspur</td>\n",
       "      <td>Sargodha</td>\n",
       "      <td>Leipzig</td>\n",
       "      <td>Tinnevelly</td>\n",
       "      <td>Cancun</td>\n",
       "      <td>Yangzhou</td>\n",
       "      <td>Novokuznetsk</td>\n",
       "      <td>Latakia</td>\n",
       "      <td>Heroica Matamoros</td>\n",
       "      <td>Goteborg</td>\n",
       "    </tr>\n",
       "    <tr>\n",
       "      <th>1</th>\n",
       "      <td>lat</td>\n",
       "      <td>35.685</td>\n",
       "      <td>406.943</td>\n",
       "      <td>194.424</td>\n",
       "      <td>19.017</td>\n",
       "      <td>-235.587</td>\n",
       "      <td>28.67</td>\n",
       "      <td>312.165</td>\n",
       "      <td>22.495</td>\n",
       "      <td>341.139</td>\n",
       "      <td>...</td>\n",
       "      <td>220.904</td>\n",
       "      <td>320.854</td>\n",
       "      <td>513.354</td>\n",
       "      <td>87.304</td>\n",
       "      <td>21.17</td>\n",
       "      <td>32.4</td>\n",
       "      <td>53.75</td>\n",
       "      <td>35.54</td>\n",
       "      <td>25.88</td>\n",
       "      <td>57.75</td>\n",
       "    </tr>\n",
       "    <tr>\n",
       "      <th>2</th>\n",
       "      <td>lng</td>\n",
       "      <td>1.397.514</td>\n",
       "      <td>-739.249</td>\n",
       "      <td>-99.131</td>\n",
       "      <td>72.857</td>\n",
       "      <td>-46.625</td>\n",
       "      <td>77.23</td>\n",
       "      <td>1.214.365</td>\n",
       "      <td>883.247</td>\n",
       "      <td>-1.184.068</td>\n",
       "      <td>...</td>\n",
       "      <td>82.16</td>\n",
       "      <td>72.675</td>\n",
       "      <td>12.41</td>\n",
       "      <td>77.69</td>\n",
       "      <td>-86.83</td>\n",
       "      <td>119.43</td>\n",
       "      <td>87.115</td>\n",
       "      <td>35.78</td>\n",
       "      <td>-97.5</td>\n",
       "      <td>12.0</td>\n",
       "    </tr>\n",
       "    <tr>\n",
       "      <th>3</th>\n",
       "      <td>country</td>\n",
       "      <td>Japan</td>\n",
       "      <td>United States</td>\n",
       "      <td>Mexico</td>\n",
       "      <td>India</td>\n",
       "      <td>Brazil</td>\n",
       "      <td>India</td>\n",
       "      <td>China</td>\n",
       "      <td>India</td>\n",
       "      <td>United States</td>\n",
       "      <td>...</td>\n",
       "      <td>India</td>\n",
       "      <td>Pakistan</td>\n",
       "      <td>Germany</td>\n",
       "      <td>India</td>\n",
       "      <td>Mexico</td>\n",
       "      <td>China</td>\n",
       "      <td>Russia</td>\n",
       "      <td>Syria</td>\n",
       "      <td>Mexico</td>\n",
       "      <td>Sweden</td>\n",
       "    </tr>\n",
       "    <tr>\n",
       "      <th>4</th>\n",
       "      <td>iso2</td>\n",
       "      <td>JP</td>\n",
       "      <td>US</td>\n",
       "      <td>MX</td>\n",
       "      <td>IN</td>\n",
       "      <td>BR</td>\n",
       "      <td>IN</td>\n",
       "      <td>CN</td>\n",
       "      <td>IN</td>\n",
       "      <td>US</td>\n",
       "      <td>...</td>\n",
       "      <td>IN</td>\n",
       "      <td>PK</td>\n",
       "      <td>DE</td>\n",
       "      <td>IN</td>\n",
       "      <td>MX</td>\n",
       "      <td>CN</td>\n",
       "      <td>RU</td>\n",
       "      <td>SY</td>\n",
       "      <td>MX</td>\n",
       "      <td>SE</td>\n",
       "    </tr>\n",
       "  </tbody>\n",
       "</table>\n",
       "<p>5 rows × 1001 columns</p>\n",
       "</div>"
      ],
      "text/plain": [
       "0  city_ascii      Tokyo       New York  Mexico City  Mumbai  Sao Paulo  \\\n",
       "0  city_ascii      Tokyo       New York  Mexico City  Mumbai  Sao Paulo   \n",
       "1         lat     35.685        406.943      194.424  19.017   -235.587   \n",
       "2         lng  1.397.514       -739.249      -99.131  72.857    -46.625   \n",
       "3     country      Japan  United States       Mexico   India     Brazil   \n",
       "4        iso2         JP             US           MX      IN         BR   \n",
       "\n",
       "0  Delhi   Shanghai  Kolkata    Los Angeles  ...  Bilaspur  Sargodha  Leipzig  \\\n",
       "0  Delhi   Shanghai  Kolkata    Los Angeles  ...  Bilaspur  Sargodha  Leipzig   \n",
       "1  28.67    312.165   22.495        341.139  ...   220.904   320.854  513.354   \n",
       "2  77.23  1.214.365  883.247     -1.184.068  ...     82.16    72.675    12.41   \n",
       "3  India      China    India  United States  ...     India  Pakistan  Germany   \n",
       "4     IN         CN       IN             US  ...        IN        PK       DE   \n",
       "\n",
       "0  Tinnevelly  Cancun  Yangzhou  Novokuznetsk  Latakia  Heroica Matamoros  \\\n",
       "0  Tinnevelly  Cancun  Yangzhou  Novokuznetsk  Latakia  Heroica Matamoros   \n",
       "1      87.304   21.17      32.4         53.75    35.54              25.88   \n",
       "2       77.69  -86.83    119.43        87.115    35.78              -97.5   \n",
       "3       India  Mexico     China        Russia    Syria             Mexico   \n",
       "4          IN      MX        CN            RU       SY                 MX   \n",
       "\n",
       "0  Goteborg  \n",
       "0  Goteborg  \n",
       "1     57.75  \n",
       "2      12.0  \n",
       "3    Sweden  \n",
       "4        SE  \n",
       "\n",
       "[5 rows x 1001 columns]"
      ]
     },
     "execution_count": 11,
     "metadata": {},
     "output_type": "execute_result"
    }
   ],
   "source": [
    "df[:5]"
   ]
  },
  {
   "cell_type": "code",
   "execution_count": null,
   "id": "expensive-reminder",
   "metadata": {},
   "outputs": [],
   "source": [
    "df = fp.get_iloc(df)"
   ]
  },
  {
   "cell_type": "code",
   "execution_count": null,
   "id": "written-involvement",
   "metadata": {},
   "outputs": [],
   "source": [
    "df"
   ]
  },
  {
   "cell_type": "code",
   "execution_count": null,
   "id": "bulgarian-negotiation",
   "metadata": {},
   "outputs": [],
   "source": [
    "df = fp.remove_rows(df)"
   ]
  },
  {
   "cell_type": "code",
   "execution_count": null,
   "id": "nasty-search",
   "metadata": {},
   "outputs": [],
   "source": [
    "df[:5]"
   ]
  },
  {
   "cell_type": "code",
   "execution_count": null,
   "id": "exceptional-russia",
   "metadata": {},
   "outputs": [],
   "source": [
    "df = fp.rename_columns(df, 'city_ascii', 'Date')\n",
    "df"
   ]
  },
  {
   "cell_type": "markdown",
   "id": "therapeutic-damage",
   "metadata": {},
   "source": [
    "#### Get Year and Months "
   ]
  },
  {
   "cell_type": "code",
   "execution_count": null,
   "id": "sorted-nicholas",
   "metadata": {
    "scrolled": true
   },
   "outputs": [],
   "source": [
    "df = fp.get_month_year(df, 'Date')"
   ]
  },
  {
   "cell_type": "code",
   "execution_count": null,
   "id": "certified-relations",
   "metadata": {},
   "outputs": [],
   "source": [
    "df[:5]"
   ]
  },
  {
   "cell_type": "code",
   "execution_count": null,
   "id": "assumed-smart",
   "metadata": {},
   "outputs": [],
   "source": [
    "df.to_csv(\"Temperature_Dataset.csv\")"
   ]
  },
  {
   "cell_type": "markdown",
   "id": "worth-aquarium",
   "metadata": {},
   "source": [
    "### Some statistics"
   ]
  },
  {
   "cell_type": "markdown",
   "id": "conditional-visiting",
   "metadata": {},
   "source": [
    "In this pipeline I wl work with Spanish species, then te first step is select only this spanish cities. "
   ]
  },
  {
   "cell_type": "code",
   "execution_count": null,
   "id": "bacterial-boulder",
   "metadata": {},
   "outputs": [],
   "source": [
    "df_spain = df[['Year', 'Month', 'Madrid', 'Barcelona', 'Malaga', 'Sevilla', 'Zaragoza', 'Valencia','Bilbao']]\n",
    "df_spain.to_csv(\"Temperature_Spain2.csv\")"
   ]
  },
  {
   "cell_type": "code",
   "execution_count": null,
   "id": "exposed-retail",
   "metadata": {},
   "outputs": [],
   "source": [
    "df_spain = pd.read_csv(\"Temperature_Spain2.csv\")\n",
    "df_spain[:5]"
   ]
  },
  {
   "cell_type": "code",
   "execution_count": null,
   "id": "prerequisite-satin",
   "metadata": {},
   "outputs": [],
   "source": [
    "df_spain = df_spain.drop(['Barcelona.1', 'Valencia', 'Unnamed: 0'], axis = 1)"
   ]
  },
  {
   "cell_type": "code",
   "execution_count": null,
   "id": "internal-insertion",
   "metadata": {
    "scrolled": false
   },
   "outputs": [],
   "source": [
    "df_year = fp.mean_year(df_spain, 'Year')\n",
    "df_month = fp.mean_month(df_spain, 'Month')"
   ]
  },
  {
   "cell_type": "code",
   "execution_count": null,
   "id": "known-testimony",
   "metadata": {},
   "outputs": [],
   "source": [
    "df_year.to_csv(\"Temperature_Spain_year2.csv\")\n",
    "df_month.to_csv(\"Temperature_Spain_month2.csv\")"
   ]
  }
 ],
 "metadata": {
  "kernelspec": {
   "display_name": "Python 3",
   "language": "python",
   "name": "python3"
  },
  "language_info": {
   "codemirror_mode": {
    "name": "ipython",
    "version": 3
   },
   "file_extension": ".py",
   "mimetype": "text/x-python",
   "name": "python",
   "nbconvert_exporter": "python",
   "pygments_lexer": "ipython3",
   "version": "3.8.5"
  },
  "toc": {
   "base_numbering": 1,
   "nav_menu": {},
   "number_sections": true,
   "sideBar": true,
   "skip_h1_title": false,
   "title_cell": "Table of Contents",
   "title_sidebar": "Contents",
   "toc_cell": true,
   "toc_position": {
    "height": "calc(100% - 180px)",
    "left": "10px",
    "top": "150px",
    "width": "426.667px"
   },
   "toc_section_display": true,
   "toc_window_display": false
  },
  "varInspector": {
   "cols": {
    "lenName": 16,
    "lenType": 16,
    "lenVar": 40
   },
   "kernels_config": {
    "python": {
     "delete_cmd_postfix": "",
     "delete_cmd_prefix": "del ",
     "library": "var_list.py",
     "varRefreshCmd": "print(var_dic_list())"
    },
    "r": {
     "delete_cmd_postfix": ") ",
     "delete_cmd_prefix": "rm(",
     "library": "var_list.r",
     "varRefreshCmd": "cat(var_dic_list()) "
    }
   },
   "types_to_exclude": [
    "module",
    "function",
    "builtin_function_or_method",
    "instance",
    "_Feature"
   ],
   "window_display": false
  }
 },
 "nbformat": 4,
 "nbformat_minor": 5
}
