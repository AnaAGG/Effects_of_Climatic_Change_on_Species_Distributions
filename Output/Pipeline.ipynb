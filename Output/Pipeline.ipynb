{
 "cells": [
  {
   "cell_type": "code",
   "execution_count": null,
   "id": "geological-apple",
   "metadata": {},
   "outputs": [],
   "source": [
    "import pandas as pd\n",
    "from datetime import datetime"
   ]
  },
  {
   "cell_type": "markdown",
   "id": "minimal-metallic",
   "metadata": {},
   "source": [
    "## Climatic data from kaggle  "
   ]
  },
  {
   "cell_type": "markdown",
   "id": "cheap-nebraska",
   "metadata": {},
   "source": [
    "To complement the information on the species I will use information on the air temperature of the last 40 years. This database is taken from www.kaggle.com.\n",
    "\n",
    "[Daily_Temperature_Of_Major_Cities](https://www.kaggle.com/sudalairajkumar/daily-temperature-of-major-cities)\n"
   ]
  },
  {
   "cell_type": "markdown",
   "id": "official-arizona",
   "metadata": {},
   "source": [
    "## Import data"
   ]
  },
  {
   "cell_type": "code",
   "execution_count": null,
   "id": "compound-volleyball",
   "metadata": {},
   "outputs": [],
   "source": [
    "df = pd.read_csv(\"/mnt/c/Users/agarc/Bootcamp_IronHack/Proyectos/P2_Kaggle-API/P2_Kaggle_API/Data/daily_temperature.csv\",encoding = \"ISO-8859-1\", sep=';')"
   ]
  },
  {
   "cell_type": "code",
   "execution_count": null,
   "id": "catholic-empty",
   "metadata": {},
   "outputs": [],
   "source": [
    "df[:15]"
   ]
  },
  {
   "cell_type": "markdown",
   "id": "mathematical-macintosh",
   "metadata": {},
   "source": [
    "### Exploring the dataset"
   ]
  },
  {
   "cell_type": "code",
   "execution_count": null,
   "id": "improved-greensboro",
   "metadata": {},
   "outputs": [],
   "source": [
    "df.shape"
   ]
  },
  {
   "cell_type": "code",
   "execution_count": null,
   "id": "generic-program",
   "metadata": {},
   "outputs": [],
   "source": [
    "df.dtypes"
   ]
  },
  {
   "cell_type": "markdown",
   "id": "copyrighted-paint",
   "metadata": {},
   "source": [
    "#### Loking for NaN "
   ]
  },
  {
   "cell_type": "markdown",
   "id": "gorgeous-yemen",
   "metadata": {},
   "source": [
    "##### NaN along rows "
   ]
  },
  {
   "cell_type": "code",
   "execution_count": null,
   "id": "governing-match",
   "metadata": {},
   "outputs": [],
   "source": [
    "null_rows = df.isnull().sum(axis = 1).apply (lambda y: y/df.shape[1]).sort_values(ascending = False)\n",
    "null_rows[:5]"
   ]
  },
  {
   "cell_type": "markdown",
   "id": "yellow-stamp",
   "metadata": {},
   "source": [
    "The row with the lowest percentage of NaN is 8 with a 0.25%, so I will decide to leave it. 9929 (0.66 %) rows have all the data."
   ]
  },
  {
   "cell_type": "markdown",
   "id": "bigger-birth",
   "metadata": {},
   "source": [
    "##### NaN along columns"
   ]
  },
  {
   "cell_type": "code",
   "execution_count": null,
   "id": "assigned-engineer",
   "metadata": {},
   "outputs": [],
   "source": [
    "null_col = df.isnull().sum().apply(lambda x: x/df.shape[0]).sort_values(ascending=False)\n",
    "null_col[:5]"
   ]
  },
  {
   "cell_type": "markdown",
   "id": "postal-supplement",
   "metadata": {},
   "source": [
    "Overall, all columns are complete, so I won't delete any"
   ]
  },
  {
   "cell_type": "markdown",
   "id": "precious-public",
   "metadata": {},
   "source": [
    "### Cleaning the data set "
   ]
  },
  {
   "cell_type": "markdown",
   "id": "modular-behavior",
   "metadata": {},
   "source": [
    "#### Remove the repetitive first columns\n",
    "\n",
    "The first XXX four rows have repeated information about the countries. I will leave only one, which I will also move to the top of the table. **I'll keep row 2 for the DataFrame header**"
   ]
  },
  {
   "cell_type": "code",
   "execution_count": null,
   "id": "decent-celebrity",
   "metadata": {},
   "outputs": [],
   "source": [
    "def get_header(data, iloc):\n",
    "    '''\n",
    "    Convert row to column header for Pandas DataFrame\n",
    "    \n",
    "    Args:\n",
    "        data(pd.DataFrame): working dataframe\n",
    "        iloc(int): the iloc of the column we want to make heading\n",
    "        \n",
    "    Return:\n",
    "        new pd.DataFrame with the new heading determined\n",
    "    '''\n",
    "    headers = df.iloc[iloc]    \n",
    "    return pd.DataFrame(data.values[1:], columns=headers)"
   ]
  },
  {
   "cell_type": "code",
   "execution_count": null,
   "id": "pointed-enterprise",
   "metadata": {},
   "outputs": [],
   "source": [
    "df = get_header(df, 1)"
   ]
  },
  {
   "cell_type": "code",
   "execution_count": null,
   "id": "eight-painting",
   "metadata": {},
   "outputs": [],
   "source": [
    "df[:15]"
   ]
  },
  {
   "cell_type": "code",
   "execution_count": null,
   "id": "pretty-usage",
   "metadata": {},
   "outputs": [],
   "source": [
    "def get_iloc(data):\n",
    "    data.columns = data.iloc[0, :]\n",
    "    return data"
   ]
  },
  {
   "cell_type": "code",
   "execution_count": null,
   "id": "expensive-reminder",
   "metadata": {},
   "outputs": [],
   "source": [
    "df = get_iloc(df)"
   ]
  },
  {
   "cell_type": "code",
   "execution_count": null,
   "id": "seven-character",
   "metadata": {},
   "outputs": [],
   "source": [
    "def remove_rows(data):\n",
    "    return data.drop(data.index[0:11], axis = 0)   "
   ]
  },
  {
   "cell_type": "code",
   "execution_count": null,
   "id": "bulgarian-negotiation",
   "metadata": {},
   "outputs": [],
   "source": [
    "df = remove_rows(df)"
   ]
  },
  {
   "cell_type": "code",
   "execution_count": null,
   "id": "nasty-search",
   "metadata": {},
   "outputs": [],
   "source": [
    "df[:15]"
   ]
  },
  {
   "cell_type": "code",
   "execution_count": null,
   "id": "prime-capability",
   "metadata": {},
   "outputs": [],
   "source": [
    "df = df.rename({'city_ascii':'Date'}, axis=1)"
   ]
  },
  {
   "cell_type": "markdown",
   "id": "therapeutic-damage",
   "metadata": {},
   "source": [
    "#### Get Year and Months "
   ]
  },
  {
   "cell_type": "code",
   "execution_count": null,
   "id": "reserved-newsletter",
   "metadata": {},
   "outputs": [],
   "source": [
    "def get_month_year(data, col):\n",
    "    df[col] = pd.to_datetime(df[col], format='%d/%m/%Y')\n",
    "    df['Year'] = pd.DatetimeIndex(df[col]).year\n",
    "    df['Month'] = pd.DatetimeIndex(df[col]).month\n",
    "    \n",
    "    return df"
   ]
  },
  {
   "cell_type": "code",
   "execution_count": null,
   "id": "sorted-nicholas",
   "metadata": {
    "scrolled": true
   },
   "outputs": [],
   "source": [
    "df = get_month_year(df, 'Date')"
   ]
  },
  {
   "cell_type": "code",
   "execution_count": null,
   "id": "assumed-smart",
   "metadata": {},
   "outputs": [],
   "source": [
    "df.to_csv(\"Dataset.csv\")"
   ]
  },
  {
   "cell_type": "markdown",
   "id": "worth-aquarium",
   "metadata": {},
   "source": [
    "### Some statistics"
   ]
  },
  {
   "cell_type": "code",
   "execution_count": null,
   "id": "bacterial-boulder",
   "metadata": {},
   "outputs": [],
   "source": [
    "df_spain = df[['Year', 'Month', 'Madrid', 'Barcelona', 'Malaga', 'Sevilla', 'Zaragoza', 'Valencia', 'Cartagena','Bilbao', 'Santiago']]"
   ]
  },
  {
   "cell_type": "code",
   "execution_count": null,
   "id": "exposed-retail",
   "metadata": {},
   "outputs": [],
   "source": [
    "df_spain"
   ]
  },
  {
   "cell_type": "code",
   "execution_count": null,
   "id": "prerequisite-satin",
   "metadata": {},
   "outputs": [],
   "source": [
    "df_spain.groupby('Year').mean()"
   ]
  },
  {
   "cell_type": "code",
   "execution_count": null,
   "id": "encouraging-commitment",
   "metadata": {},
   "outputs": [],
   "source": [
    "def mean_year(data, col):\n",
    "    data = data.groupby([col]).mean()\n",
    "    \n",
    "    return data"
   ]
  },
  {
   "cell_type": "code",
   "execution_count": null,
   "id": "internal-insertion",
   "metadata": {},
   "outputs": [],
   "source": [
    "mean_year(df_spain, 'Year')"
   ]
  },
  {
   "cell_type": "code",
   "execution_count": null,
   "id": "advanced-adrian",
   "metadata": {},
   "outputs": [],
   "source": [
    "df_mean_month = df_spain_st.groupby(['Month']).mean()"
   ]
  },
  {
   "cell_type": "code",
   "execution_count": null,
   "id": "equivalent-chapter",
   "metadata": {},
   "outputs": [],
   "source": [
    "df_mean_month"
   ]
  },
  {
   "cell_type": "code",
   "execution_count": null,
   "id": "dynamic-classics",
   "metadata": {},
   "outputs": [],
   "source": []
  }
 ],
 "metadata": {
  "kernelspec": {
   "display_name": "Python 3",
   "language": "python",
   "name": "python3"
  },
  "language_info": {
   "codemirror_mode": {
    "name": "ipython",
    "version": 3
   },
   "file_extension": ".py",
   "mimetype": "text/x-python",
   "name": "python",
   "nbconvert_exporter": "python",
   "pygments_lexer": "ipython3",
   "version": "3.8.5"
  },
  "toc": {
   "base_numbering": 1,
   "nav_menu": {},
   "number_sections": true,
   "sideBar": true,
   "skip_h1_title": false,
   "title_cell": "Table of Contents",
   "title_sidebar": "Contents",
   "toc_cell": false,
   "toc_position": {},
   "toc_section_display": true,
   "toc_window_display": false
  },
  "varInspector": {
   "cols": {
    "lenName": 16,
    "lenType": 16,
    "lenVar": 40
   },
   "kernels_config": {
    "python": {
     "delete_cmd_postfix": "",
     "delete_cmd_prefix": "del ",
     "library": "var_list.py",
     "varRefreshCmd": "print(var_dic_list())"
    },
    "r": {
     "delete_cmd_postfix": ") ",
     "delete_cmd_prefix": "rm(",
     "library": "var_list.r",
     "varRefreshCmd": "cat(var_dic_list()) "
    }
   },
   "types_to_exclude": [
    "module",
    "function",
    "builtin_function_or_method",
    "instance",
    "_Feature"
   ],
   "window_display": false
  }
 },
 "nbformat": 4,
 "nbformat_minor": 5
}
